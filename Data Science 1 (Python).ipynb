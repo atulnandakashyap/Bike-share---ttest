{
  "cells": [
    {
      "cell_type": "code",
      "execution_count": null,
      "id": "255e325e-5102-4b43-af9d-8d4756ed6b0a",
      "metadata": {
        "id": "255e325e-5102-4b43-af9d-8d4756ed6b0a"
      },
      "outputs": [],
      "source": []
    },
    {
      "cell_type": "code",
      "execution_count": null,
      "id": "b1ed1368-5638-497c-857a-97bf15fec402",
      "metadata": {
        "id": "b1ed1368-5638-497c-857a-97bf15fec402"
      },
      "outputs": [],
      "source": []
    },
    {
      "cell_type": "code",
      "execution_count": null,
      "id": "73b124d7-125c-434d-a149-f24c493eb037",
      "metadata": {
        "id": "73b124d7-125c-434d-a149-f24c493eb037"
      },
      "outputs": [],
      "source": []
    },
    {
      "cell_type": "code",
      "execution_count": null,
      "id": "91e28a3f-2d87-46b3-8eb6-297d87c5aaed",
      "metadata": {
        "id": "91e28a3f-2d87-46b3-8eb6-297d87c5aaed"
      },
      "outputs": [],
      "source": []
    },
    {
      "cell_type": "code",
      "execution_count": null,
      "id": "cce35bef-0ad5-4e23-ae90-df5e08d604bd",
      "metadata": {
        "id": "cce35bef-0ad5-4e23-ae90-df5e08d604bd"
      },
      "outputs": [],
      "source": []
    },
    {
      "cell_type": "code",
      "execution_count": null,
      "id": "c18c8248-3ecf-4ddc-a648-5db0430921c3",
      "metadata": {
        "id": "c18c8248-3ecf-4ddc-a648-5db0430921c3"
      },
      "outputs": [],
      "source": []
    },
    {
      "cell_type": "code",
      "execution_count": null,
      "id": "6ce0064b-0473-4f57-bf4b-eca77ec8b3ca",
      "metadata": {
        "id": "6ce0064b-0473-4f57-bf4b-eca77ec8b3ca"
      },
      "outputs": [],
      "source": []
    },
    {
      "cell_type": "code",
      "execution_count": null,
      "id": "d89dfa52-2de5-4e10-9067-95c2c993488d",
      "metadata": {
        "id": "d89dfa52-2de5-4e10-9067-95c2c993488d"
      },
      "outputs": [],
      "source": []
    },
    {
      "cell_type": "code",
      "execution_count": null,
      "id": "f35bda81-6afe-4e4c-9d4e-850cfadb2300",
      "metadata": {
        "id": "f35bda81-6afe-4e4c-9d4e-850cfadb2300"
      },
      "outputs": [],
      "source": []
    },
    {
      "cell_type": "code",
      "execution_count": null,
      "id": "4652432f-090e-4eb8-896c-08e49840d41e",
      "metadata": {
        "id": "4652432f-090e-4eb8-896c-08e49840d41e"
      },
      "outputs": [],
      "source": []
    },
    {
      "cell_type": "code",
      "execution_count": null,
      "id": "fec5d50f-0bee-43fe-9565-9f3c5f43c1c0",
      "metadata": {
        "id": "fec5d50f-0bee-43fe-9565-9f3c5f43c1c0"
      },
      "outputs": [],
      "source": []
    },
    {
      "cell_type": "code",
      "execution_count": null,
      "id": "80b84f00-1c4a-4f1a-879c-297f55c6eeeb",
      "metadata": {
        "id": "80b84f00-1c4a-4f1a-879c-297f55c6eeeb"
      },
      "outputs": [],
      "source": []
    },
    {
      "cell_type": "code",
      "execution_count": null,
      "id": "a62b8c11-7686-499a-bbd3-8174dcbff09d",
      "metadata": {
        "id": "a62b8c11-7686-499a-bbd3-8174dcbff09d"
      },
      "outputs": [],
      "source": []
    },
    {
      "cell_type": "code",
      "execution_count": null,
      "id": "61f45b37-6d97-4163-858b-de63b5fea1c0",
      "metadata": {
        "id": "61f45b37-6d97-4163-858b-de63b5fea1c0"
      },
      "outputs": [],
      "source": []
    },
    {
      "cell_type": "code",
      "execution_count": null,
      "id": "78c4b484-0714-4902-9b26-ce3b9d26d74d",
      "metadata": {
        "id": "78c4b484-0714-4902-9b26-ce3b9d26d74d"
      },
      "outputs": [],
      "source": []
    },
    {
      "cell_type": "code",
      "execution_count": null,
      "id": "a5a087ca-fdc1-4e47-baad-8caeae977a53",
      "metadata": {
        "id": "a5a087ca-fdc1-4e47-baad-8caeae977a53"
      },
      "outputs": [],
      "source": []
    }
  ],
  "metadata": {
    "kernelspec": {
      "display_name": "Python 3 (ipykernel)",
      "language": "python",
      "name": "python3"
    },
    "language_info": {
      "codemirror_mode": {
        "name": "ipython",
        "version": 3
      },
      "file_extension": ".py",
      "mimetype": "text/x-python",
      "name": "python",
      "nbconvert_exporter": "python",
      "pygments_lexer": "ipython3",
      "version": "3.9.15"
    },
    "colab": {
      "provenance": []
    }
  },
  "nbformat": 4,
  "nbformat_minor": 5
}