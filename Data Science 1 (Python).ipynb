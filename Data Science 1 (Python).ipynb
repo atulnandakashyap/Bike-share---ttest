{
  "cells": [
    {
      "cell_type": "markdown",
      "id": "9f69c0fb-a0c7-4d5c-9250-303c06d74a85",
      "metadata": {
        "id": "9f69c0fb-a0c7-4d5c-9250-303c06d74a85"
      },
      "source": [
        "### The most important Markdown shortcuts in Jupyter Lab\n",
        "\n",
        "- shift/alt + enter - execute current cell and add another below\n",
        "- ctrl + enter      - execute current cell\n",
        "- a - inserts the code cell above\n",
        "- b - inserts the code cell below\n",
        "- x - cuts the selected cell\n",
        "- c - copies the selected cell\n",
        "- v - pastes the cell below\n",
        "- double d - deletes the selected cell\n",
        "- z - undo the cell deletion\n",
        "- y - changes the cell type to Code,\n",
        "- m - changes the cell type to Markdown\n",
        "- ctrl + / - comment a line"
      ]
    },
    {
      "cell_type": "code",
      "execution_count": 1,
      "id": "d817bea9-8090-476b-aab6-71ca4d99e615",
      "metadata": {
        "id": "d817bea9-8090-476b-aab6-71ca4d99e615",
        "outputId": "75c32615-7184-42da-a0d2-010631bc9968",
        "colab": {
          "base_uri": "https://localhost:8080/"
        }
      },
      "outputs": [
        {
          "output_type": "stream",
          "name": "stdout",
          "text": [
            "5\n"
          ]
        }
      ],
      "source": [
        "a=5 # assign variable a to literal 3\n",
        "print(a) # print a variable"
      ]
    },
    {
      "cell_type": "code",
      "execution_count": null,
      "id": "2307bcaa-0408-41e2-93b8-ff241510d1c5",
      "metadata": {
        "id": "2307bcaa-0408-41e2-93b8-ff241510d1c5",
        "outputId": "91747047-22cc-45eb-9b09-36063201bd1a"
      },
      "outputs": [
        {
          "name": "stdout",
          "output_type": "stream",
          "text": [
            "a is of type <class 'int'>\n",
            "b is of type <class 'float'>\n",
            "c is of type <class 'float'> and its value is 1.4285714285714286\n",
            "d is of type <class 'float'> and its value is 1.4285714285714286\n"
          ]
        }
      ],
      "source": [
        "# we can also inspect the type of variables\n",
        "a=3\n",
        "print('a is of type',type(a))\n",
        "b = 2.1\n",
        "print('b is of type',type(b))\n",
        "c = a/b\n",
        "print('c is of type',type(c), 'and its value is',c)"
      ]
    },
    {
      "cell_type": "code",
      "execution_count": null,
      "id": "ec9baadb-6897-41e9-acf5-5245f85a437b",
      "metadata": {
        "id": "ec9baadb-6897-41e9-acf5-5245f85a437b",
        "outputId": "d341cde6-dd1c-4ba6-f324-5dea93900f14"
      },
      "outputs": [
        {
          "name": "stdout",
          "output_type": "stream",
          "text": [
            "a is of type <class 'int'>\n",
            "b is of type <class 'int'>\n",
            "c is of type <class 'float'>\n"
          ]
        }
      ],
      "source": [
        "a = 4\n",
        "b = 2\n",
        "c = a/b\n",
        "print(\"a is of type\", type(a))\n",
        "print(\"b is of type\", type(b))\n",
        "print(\"c is of type\", type(c)) # division changes the type to float"
      ]
    },
    {
      "cell_type": "code",
      "execution_count": null,
      "id": "3b37f365-fee4-478f-8dbc-3fed44b0f500",
      "metadata": {
        "id": "3b37f365-fee4-478f-8dbc-3fed44b0f500",
        "outputId": "d1e33131-5ef1-480f-c4ad-0614a9f98739"
      },
      "outputs": [
        {
          "name": "stdout",
          "output_type": "stream",
          "text": [
            "a is of type <class 'int'>, b is of type <class 'int'> and c is of <class 'float'>\n"
          ]
        }
      ],
      "source": [
        "# you can also write it as given below using \"f\" \n",
        "# have the variables in {}\n",
        "\n",
        "print(f\"a is of type {type(a)}, b is of type {type(b)} and c is of {type(c)}\")"
      ]
    },
    {
      "cell_type": "code",
      "execution_count": null,
      "id": "fb13b808-66e2-4ac0-8681-58538dbdc8bf",
      "metadata": {
        "id": "fb13b808-66e2-4ac0-8681-58538dbdc8bf",
        "outputId": "cb5f91f6-2b74-4372-d898-5ce2c4347395"
      },
      "outputs": [
        {
          "name": "stdout",
          "output_type": "stream",
          "text": [
            "[1, 3, 2, 5, 4, 7, 2, 9, 1, 3, 2, 5, 4, 7, 2, 9, 1, 3, 2, 5, 4, 7, 2, 9]\n"
          ]
        },
        {
          "data": {
            "text/plain": [
              "3"
            ]
          },
          "execution_count": 158,
          "metadata": {},
          "output_type": "execute_result"
        }
      ],
      "source": [
        "a = [1,3,2,5,4,7,2,9]\n",
        "print(a*3) # repeats the list a three times\n",
        "\n",
        "a.index(5) # gives the index of the element"
      ]
    },
    {
      "cell_type": "code",
      "execution_count": null,
      "id": "1df89bd3-e6e6-40c8-87bb-551356041b81",
      "metadata": {
        "id": "1df89bd3-e6e6-40c8-87bb-551356041b81"
      },
      "outputs": [],
      "source": [
        "# shallow copy\n",
        "# deep copy\n"
      ]
    },
    {
      "cell_type": "code",
      "execution_count": null,
      "id": "e1afb86b-5c81-4a10-99d6-326b8f23edfa",
      "metadata": {
        "id": "e1afb86b-5c81-4a10-99d6-326b8f23edfa",
        "outputId": "38860b97-cc02-42b8-ec9c-454dc1a0c407"
      },
      "outputs": [
        {
          "name": "stdout",
          "output_type": "stream",
          "text": [
            "(1, 2, 3, 4, 5)\n",
            "First element - 1, Last element - 5\n"
          ]
        }
      ],
      "source": [
        "# a tuple is an ordered collection of values, are unchangeable/immutable, allow duplicates and can be indexed\n",
        "\n",
        "a = (1,2,3,4,5)\n",
        "print(a)\n",
        "print(f\"First element - {a[0]}, Last element - {a[-1]}\")"
      ]
    },
    {
      "cell_type": "code",
      "execution_count": null,
      "id": "98258adb-6a00-4992-b513-d342ce6d8f0b",
      "metadata": {
        "id": "98258adb-6a00-4992-b513-d342ce6d8f0b",
        "outputId": "5443ff34-1c9e-434e-99d9-10b21f67b497"
      },
      "outputs": [
        {
          "name": "stdout",
          "output_type": "stream",
          "text": [
            "This is a list: [10, 2, 3, 4, 5]\n",
            "This is a tuple: (10, 2, 3, 4, 5)\n"
          ]
        }
      ],
      "source": [
        "# if you have to change a value in the tuple then change the tuple to a list, change the value and change it back to a tuple\n",
        "\n",
        "a = (1,2,3,4,5)\n",
        "a = list(a)\n",
        "a[0] = 10\n",
        "print(f\"This is a list: {a}\")\n",
        "\n",
        "a = tuple(a)\n",
        "print(f\"This is a tuple: {a}\")"
      ]
    },
    {
      "cell_type": "code",
      "execution_count": null,
      "id": "234aac24-7285-4378-8464-bff1d1eefc03",
      "metadata": {
        "id": "234aac24-7285-4378-8464-bff1d1eefc03",
        "outputId": "24b4a48f-e668-43f3-dc55-0d1dbe8f6a5c"
      },
      "outputs": [
        {
          "name": "stdout",
          "output_type": "stream",
          "text": [
            "This is a set: {1, 2, 3, 4} \n",
            "\n",
            "Added new element 6 to a: {1, 2, 3, 4, 6} \n",
            "\n",
            "Removed 1 from a: {2, 3, 4, 6}\n"
          ]
        }
      ],
      "source": [
        "# a set is an unordered collection of values that are changeable and does NOT allow duplicates\n",
        "\n",
        "a = {1,2,3,4,1,2,3}\n",
        "print(f\"This is a set: {a} \\n\")  # removes the duplicates\n",
        "\n",
        "# you can't change values but you can add and remove entries from a set\n",
        "a.add(6) # added new element\n",
        "print(f\"Added new element 6 to a: {a} \\n\")\n",
        "\n",
        "a.remove(1)\n",
        "print(f\"Removed 1 from a: {a}\")"
      ]
    },
    {
      "cell_type": "code",
      "execution_count": null,
      "id": "da9fc96c-0ced-46e2-82f8-387d1e948a64",
      "metadata": {
        "id": "da9fc96c-0ced-46e2-82f8-387d1e948a64",
        "outputId": "d1bab30b-01df-420f-d645-93a318f2870a"
      },
      "outputs": [
        {
          "name": "stdout",
          "output_type": "stream",
          "text": [
            "Dictionary: {'One': 1, 'Two': 2, 'Three': 3} \n",
            "\n",
            "First element of dictionary: 1 \n",
            "\n",
            "Added a new element to the dictionary: {'One': 1, 'Two': 2, 'Three': 3, 'Four': 4}\n"
          ]
        }
      ],
      "source": [
        "# a dictionaries are unordered, indexed and changeable/mutable\n",
        "\n",
        "d = {\"One\":1, \"Two\":2, \"Three\":3}\n",
        "print(f\"Dictionary: {d} \\n\")\n",
        "print(f\"First element of dictionary: {d['One']} \\n\")         # note the brackets used to get an element of the dictionary d[\"One\"]\n",
        "\n",
        "d[\"Four\"] = 4\n",
        "print(f\"Added a new element to the dictionary: {d}\")"
      ]
    },
    {
      "cell_type": "code",
      "execution_count": null,
      "id": "8c949a56-bc4e-4685-91c4-aef4d3983749",
      "metadata": {
        "id": "8c949a56-bc4e-4685-91c4-aef4d3983749",
        "outputId": "cf4633de-06ed-4e3f-cabe-19a742fb8737"
      },
      "outputs": [
        {
          "name": "stdout",
          "output_type": "stream",
          "text": [
            "0 1 2 3 4 5\n"
          ]
        }
      ],
      "source": [
        "print(*range(6))"
      ]
    },
    {
      "cell_type": "code",
      "execution_count": null,
      "id": "357c6c66-4842-4868-94c0-819d9221a0da",
      "metadata": {
        "id": "357c6c66-4842-4868-94c0-819d9221a0da",
        "outputId": "d1ab0b2a-2bf5-42ff-d83a-bfe3560581bc"
      },
      "outputs": [
        {
          "name": "stdout",
          "output_type": "stream",
          "text": [
            "0\n",
            "1\n",
            "2\n",
            "3\n",
            "4\n",
            "5\n",
            "6\n",
            "7\n",
            "8\n",
            "9\n"
          ]
        }
      ],
      "source": [
        "for i in range(10):\n",
        "    print(i)"
      ]
    },
    {
      "cell_type": "code",
      "execution_count": null,
      "id": "52ae3db2-ccb3-4191-8583-8d9d5d5a67dd",
      "metadata": {
        "id": "52ae3db2-ccb3-4191-8583-8d9d5d5a67dd",
        "outputId": "8e679f35-0a66-46c6-de49-e77facc90474"
      },
      "outputs": [
        {
          "name": "stdout",
          "output_type": "stream",
          "text": [
            "0123456789\n",
            "-10 -9 -8 -7 -6 -5 -4 -3 -2 -1 0 1 2 3 4 5 6 7 8 9 \n",
            "1 3 5 7 9 11 13 15 17 19 \n"
          ]
        }
      ],
      "source": [
        "for i in range(10):\n",
        "    print(i, end=\"\")      # print 0 to 9 in same line without space between the values\n",
        "\n",
        "print()                   # new line\n",
        "for i in range(-10, 10):  # loop from -10 to 9\n",
        "    print(i, end=\" \")     # print in same line with space between the values\n",
        "\n",
        "print()                   # new line\n",
        "for i in range(1, 20, 2): # Loop from 1 to 19 with gap/increment/jump of 2\n",
        "    print(i, end=\" \")     \n",
        "\n",
        "print()                   # new line\n",
        "for i in range(11, 10):   # will not print anything. Will not throw an error either. start needs to be smaller than \n",
        "    print(i, end =\", \")   "
      ]
    },
    {
      "cell_type": "code",
      "execution_count": null,
      "id": "7976b05a-f5fa-4490-ade2-704534162d2e",
      "metadata": {
        "id": "7976b05a-f5fa-4490-ade2-704534162d2e",
        "outputId": "d9b8ebb4-71ba-41e3-f071-ee3de2daeaf2"
      },
      "outputs": [
        {
          "name": "stdout",
          "output_type": "stream",
          "text": [
            "[0, 2, 4, 6, 8]\n"
          ]
        }
      ],
      "source": [
        "# we can convert a range to a list\n",
        "\n",
        "print(list(range(0,10,2)))"
      ]
    },
    {
      "cell_type": "code",
      "execution_count": null,
      "id": "be073a27-b734-43de-b1fb-c647f0f60f9b",
      "metadata": {
        "id": "be073a27-b734-43de-b1fb-c647f0f60f9b"
      },
      "outputs": [],
      "source": [
        "# \"C:\\Users\\hp\\Downloads\\\" you get path of the file from explorer with backslash \"\\\"\n",
        "# in jupyter notebook/lab we have to change the backslash to forward slash to read the file\n",
        "# r stands for \"raw\" and will cause backslashes in the string to be interpreted as actual backslashes rather than special characters.\n",
        "\n",
        "import pandas as pd\n",
        "# df = pd.read_csv(\"C:/Users/hp/desktop/Important/quality.csv\")                        # or\n",
        "# df1 = pd.read_csv(r\"C:\\Users\\hp\\desktop\\Important\\quality.csv\")                      # or\n",
        "# df2 = pd.read_excel(r\"C:\\Users\\hp\\desktop\\Important\\Delhi_Pollution_data.xlsx\")      # or\n",
        "df3 = pd.read_excel(\"C:\\\\Users\\\\hp\\\\desktop\\\\Important\\\\Delhi_Pollution_data.xlsx\")"
      ]
    },
    {
      "cell_type": "code",
      "execution_count": null,
      "id": "e86b103d-332e-4695-969c-f7ac7b5a6dcb",
      "metadata": {
        "id": "e86b103d-332e-4695-969c-f7ac7b5a6dcb",
        "outputId": "293768e3-c4eb-440b-cb93-5d4eaa1f2cea"
      },
      "outputs": [
        {
          "data": {
            "text/html": [
              "<div>\n",
              "<style scoped>\n",
              "    .dataframe tbody tr th:only-of-type {\n",
              "        vertical-align: middle;\n",
              "    }\n",
              "\n",
              "    .dataframe tbody tr th {\n",
              "        vertical-align: top;\n",
              "    }\n",
              "\n",
              "    .dataframe thead th {\n",
              "        text-align: right;\n",
              "    }\n",
              "</style>\n",
              "<table border=\"1\" class=\"dataframe\">\n",
              "  <thead>\n",
              "    <tr style=\"text-align: right;\">\n",
              "      <th></th>\n",
              "      <th>City</th>\n",
              "      <th>Date</th>\n",
              "      <th>PM2.5</th>\n",
              "      <th>PM10</th>\n",
              "      <th>NO</th>\n",
              "      <th>NO2</th>\n",
              "      <th>NOx</th>\n",
              "      <th>NH3</th>\n",
              "      <th>CO</th>\n",
              "      <th>SO2</th>\n",
              "      <th>O3</th>\n",
              "      <th>Benzene</th>\n",
              "      <th>Toluene</th>\n",
              "      <th>Xylene</th>\n",
              "      <th>AQI</th>\n",
              "      <th>AQI_Bucket</th>\n",
              "    </tr>\n",
              "  </thead>\n",
              "  <tbody>\n",
              "    <tr>\n",
              "      <th>0</th>\n",
              "      <td>Delhi</td>\n",
              "      <td>2020-07-01</td>\n",
              "      <td>54.01</td>\n",
              "      <td>128.66</td>\n",
              "      <td>6.33</td>\n",
              "      <td>21.05</td>\n",
              "      <td>16.81</td>\n",
              "      <td>29.06</td>\n",
              "      <td>0.97</td>\n",
              "      <td>11.15</td>\n",
              "      <td>29.73</td>\n",
              "      <td>2.03</td>\n",
              "      <td>23.57</td>\n",
              "      <td>0.65</td>\n",
              "      <td>101</td>\n",
              "      <td>Moderate</td>\n",
              "    </tr>\n",
              "  </tbody>\n",
              "</table>\n",
              "</div>"
            ],
            "text/plain": [
              "    City       Date  PM2.5    PM10    NO    NO2    NOx    NH3    CO    SO2  \\\n",
              "0  Delhi 2020-07-01  54.01  128.66  6.33  21.05  16.81  29.06  0.97  11.15   \n",
              "\n",
              "      O3  Benzene  Toluene  Xylene  AQI AQI_Bucket  \n",
              "0  29.73     2.03    23.57    0.65  101   Moderate  "
            ]
          },
          "execution_count": 105,
          "metadata": {},
          "output_type": "execute_result"
        }
      ],
      "source": [
        "df3.head(1)"
      ]
    },
    {
      "cell_type": "code",
      "execution_count": null,
      "id": "510a4e86-56ad-4d05-b07c-cb242bbc3d62",
      "metadata": {
        "id": "510a4e86-56ad-4d05-b07c-cb242bbc3d62",
        "outputId": "ba1a5cd2-beea-4d0f-f06b-168d5c5fd928"
      },
      "outputs": [
        {
          "data": {
            "text/plain": [
              "'C:\\\\Users\\\\hp\\\\Desktop\\\\Important'"
            ]
          },
          "execution_count": 107,
          "metadata": {},
          "output_type": "execute_result"
        }
      ],
      "source": [
        "import os\n",
        "os.getcwd() # this code will show you your current working directory\n",
        "# os.chdir(\"path to desired directory\")# changes the working directory"
      ]
    },
    {
      "cell_type": "code",
      "execution_count": null,
      "id": "6e2f1748-5de1-4c40-a74f-12a4b84b56fb",
      "metadata": {
        "id": "6e2f1748-5de1-4c40-a74f-12a4b84b56fb",
        "outputId": "31095d4f-c14c-4edb-a825-8f801fc97df5"
      },
      "outputs": [
        {
          "ename": "SyntaxError",
          "evalue": "invalid syntax (3547514831.py, line 1)",
          "output_type": "error",
          "traceback": [
            "\u001b[1;36m  Cell \u001b[1;32mIn[110], line 1\u001b[1;36m\u001b[0m\n\u001b[1;33m    a = 123abc      # if we want to assign a string value to a variable then it needs to be in \"\" else it will throw an error\u001b[0m\n\u001b[1;37m           ^\u001b[0m\n\u001b[1;31mSyntaxError\u001b[0m\u001b[1;31m:\u001b[0m invalid syntax\n"
          ]
        }
      ],
      "source": [
        "a = 123abc      # if we want to assign a string value to a variable then it needs to be in \"\" else it will throw an error\n",
        "print(a)"
      ]
    },
    {
      "cell_type": "code",
      "execution_count": null,
      "id": "b02bca56-48d7-439c-996e-6bac8583e954",
      "metadata": {
        "id": "b02bca56-48d7-439c-996e-6bac8583e954",
        "outputId": "9b45825f-2121-4fbf-f69c-618d2f485397"
      },
      "outputs": [
        {
          "ename": "NameError",
          "evalue": "name 'abc' is not defined",
          "output_type": "error",
          "traceback": [
            "\u001b[1;31m---------------------------------------------------------------------------\u001b[0m",
            "\u001b[1;31mNameError\u001b[0m                                 Traceback (most recent call last)",
            "Cell \u001b[1;32mIn[111], line 1\u001b[0m\n\u001b[1;32m----> 1\u001b[0m a \u001b[38;5;241m=\u001b[39m \u001b[43mabc\u001b[49m       \u001b[38;5;66;03m# here python will look for a varible abc\u001b[39;00m\n\u001b[0;32m      2\u001b[0m \u001b[38;5;28mprint\u001b[39m(a)\n",
            "\u001b[1;31mNameError\u001b[0m: name 'abc' is not defined"
          ]
        }
      ],
      "source": [
        "a = abc       # here python will look for a varible abc\n",
        "print(a)"
      ]
    },
    {
      "cell_type": "code",
      "execution_count": null,
      "id": "055e86f2-268f-476f-b63f-e2e86eae91d2",
      "metadata": {
        "id": "055e86f2-268f-476f-b63f-e2e86eae91d2",
        "outputId": "e0bf0961-db2c-4ecc-eaa9-f0823ac3ac5f"
      },
      "outputs": [
        {
          "name": "stdout",
          "output_type": "stream",
          "text": [
            "a: 123\n",
            "<class 'str'>\n"
          ]
        }
      ],
      "source": [
        "# convert a numner to a string\n",
        "\n",
        "a = 123\n",
        "a = str(a)\n",
        "print(\"a:\", a)\n",
        "print(type(a))"
      ]
    },
    {
      "cell_type": "code",
      "execution_count": null,
      "id": "16d2a64b-6656-41fa-aee0-926521edad83",
      "metadata": {
        "id": "16d2a64b-6656-41fa-aee0-926521edad83",
        "outputId": "4d59e725-2727-4dac-e0f6-78e872450af1"
      },
      "outputs": [
        {
          "ename": "TypeError",
          "evalue": "can only concatenate str (not \"int\") to str",
          "output_type": "error",
          "traceback": [
            "\u001b[1;31m---------------------------------------------------------------------------\u001b[0m",
            "\u001b[1;31mTypeError\u001b[0m                                 Traceback (most recent call last)",
            "Cell \u001b[1;32mIn[119], line 5\u001b[0m\n\u001b[0;32m      3\u001b[0m a \u001b[38;5;241m=\u001b[39m \u001b[38;5;124m\"\u001b[39m\u001b[38;5;124m1\u001b[39m\u001b[38;5;124m\"\u001b[39m\n\u001b[0;32m      4\u001b[0m b \u001b[38;5;241m=\u001b[39m \u001b[38;5;241m2\u001b[39m\n\u001b[1;32m----> 5\u001b[0m \u001b[38;5;28mprint\u001b[39m(\u001b[43ma\u001b[49m\u001b[38;5;241;43m+\u001b[39;49m\u001b[43mb\u001b[49m)\n",
            "\u001b[1;31mTypeError\u001b[0m: can only concatenate str (not \"int\") to str"
          ]
        }
      ],
      "source": [
        "# you cannot add a number to a string\n",
        "\n",
        "a = \"1\"\n",
        "b = 2\n",
        "print(a+b)"
      ]
    },
    {
      "cell_type": "code",
      "execution_count": null,
      "id": "6b1ec785-8664-4604-be05-10cf9acb2152",
      "metadata": {
        "id": "6b1ec785-8664-4604-be05-10cf9acb2152",
        "outputId": "f907bcd6-ca19-4484-e936-a7a0c27a7a40"
      },
      "outputs": [
        {
          "name": "stdout",
          "output_type": "stream",
          "text": [
            "11\n",
            "11111\n"
          ]
        }
      ],
      "source": [
        "print(a+a) # \"+\" concatenates the strings\n",
        "print(a*5) # repeats the string just like a list"
      ]
    },
    {
      "cell_type": "code",
      "execution_count": null,
      "id": "67819c07-bf12-44f0-8397-ea50374cdf10",
      "metadata": {
        "id": "67819c07-bf12-44f0-8397-ea50374cdf10",
        "outputId": "3336f554-98a6-4740-8928-772e8d715d6a"
      },
      "outputs": [
        {
          "name": "stdout",
          "output_type": "stream",
          "text": [
            "0\n"
          ]
        }
      ],
      "source": [
        "a= 1\n",
        "for i in range(6):\n",
        "    a = a* i\n",
        "print(a)"
      ]
    },
    {
      "cell_type": "code",
      "execution_count": null,
      "id": "a8ad09e7-d2cf-4dab-8082-c313a95d7b21",
      "metadata": {
        "id": "a8ad09e7-d2cf-4dab-8082-c313a95d7b21",
        "outputId": "4e0f0422-ad0e-498d-f463-681b6771582f"
      },
      "outputs": [
        {
          "name": "stdout",
          "output_type": "stream",
          "text": [
            "2\n"
          ]
        }
      ],
      "source": [
        "# we can use == between a string and an integer\n",
        "\n",
        "i='1'\n",
        "if i==49:\n",
        "    print(1)\n",
        "else: \n",
        "    print(2)"
      ]
    },
    {
      "cell_type": "code",
      "execution_count": null,
      "id": "d9b9c310-91d1-4117-9868-a1d8a7059368",
      "metadata": {
        "id": "d9b9c310-91d1-4117-9868-a1d8a7059368",
        "outputId": "7f120571-1063-4b39-eb7c-0e2f2c44eb54"
      },
      "outputs": [
        {
          "ename": "TypeError",
          "evalue": "'<' not supported between instances of 'str' and 'int'",
          "output_type": "error",
          "traceback": [
            "\u001b[1;31m---------------------------------------------------------------------------\u001b[0m",
            "\u001b[1;31mTypeError\u001b[0m                                 Traceback (most recent call last)",
            "Cell \u001b[1;32mIn[144], line 4\u001b[0m\n\u001b[0;32m      1\u001b[0m \u001b[38;5;66;03m# cannot compare a string with a integer\u001b[39;00m\n\u001b[0;32m      3\u001b[0m i\u001b[38;5;241m=\u001b[39m\u001b[38;5;124m'\u001b[39m\u001b[38;5;124m2\u001b[39m\u001b[38;5;124m'\u001b[39m\n\u001b[1;32m----> 4\u001b[0m \u001b[38;5;28;01mif\u001b[39;00m \u001b[43mi\u001b[49m\u001b[38;5;241;43m<\u001b[39;49m\u001b[38;5;241;43m1\u001b[39;49m:\n\u001b[0;32m      5\u001b[0m     \u001b[38;5;28mprint\u001b[39m(\u001b[38;5;241m1\u001b[39m)\n\u001b[0;32m      6\u001b[0m \u001b[38;5;28;01melse\u001b[39;00m: \n",
            "\u001b[1;31mTypeError\u001b[0m: '<' not supported between instances of 'str' and 'int'"
          ]
        }
      ],
      "source": [
        "# cannot compare a string with a integer\n",
        "\n",
        "i='2'\n",
        "if i<1:\n",
        "    print(1)\n",
        "else: \n",
        "    print(2)"
      ]
    },
    {
      "cell_type": "code",
      "execution_count": null,
      "id": "3299b056-f9c8-48d1-883a-995b443a2dba",
      "metadata": {
        "id": "3299b056-f9c8-48d1-883a-995b443a2dba",
        "outputId": "cbd900eb-79e2-4ab1-d56e-fe17079bbdad"
      },
      "outputs": [
        {
          "ename": "SyntaxError",
          "evalue": "EOL while scanning string literal (94648274.py, line 1)",
          "output_type": "error",
          "traceback": [
            "\u001b[1;36m  Cell \u001b[1;32mIn[155], line 1\u001b[1;36m\u001b[0m\n\u001b[1;33m    print(\"\\\")  # \\ is an escape character and cannot be printed alone\u001b[0m\n\u001b[1;37m                                                                      ^\u001b[0m\n\u001b[1;31mSyntaxError\u001b[0m\u001b[1;31m:\u001b[0m EOL while scanning string literal\n"
          ]
        }
      ],
      "source": [
        "print(\"\\\")  # \\ is an escape character and cannot be printed alone"
      ]
    },
    {
      "cell_type": "code",
      "execution_count": null,
      "id": "40c8d1a4-ba28-414c-baac-f9247a1a1e91",
      "metadata": {
        "id": "40c8d1a4-ba28-414c-baac-f9247a1a1e91"
      },
      "outputs": [],
      "source": []
    },
    {
      "cell_type": "code",
      "execution_count": null,
      "id": "09d2bde2-65f8-40d1-8356-347b73527b3f",
      "metadata": {
        "id": "09d2bde2-65f8-40d1-8356-347b73527b3f",
        "outputId": "b3473035-390c-4c4e-a776-c05dca641c83"
      },
      "outputs": [
        {
          "name": "stdout",
          "output_type": "stream",
          "text": [
            "[1. 5. 9.]\n",
            "[ 0.  5. 10. 15. 20.]\n"
          ]
        }
      ],
      "source": [
        "import numpy as np\n",
        "a = np.linspace(1,9,3) #  returns number spaces evenly w.r.t interval\n",
        "print(a)\n",
        "\n",
        "a = np.linspace(0,20,5) #  returns number spaces evenly w.r.t interval\n",
        "print(a)\n"
      ]
    },
    {
      "cell_type": "code",
      "execution_count": null,
      "id": "fd8c2970-3844-49a2-b3a4-52a5168366e5",
      "metadata": {
        "id": "fd8c2970-3844-49a2-b3a4-52a5168366e5",
        "outputId": "48aa51b2-d705-4e1c-dcd7-bcb57ce2759a"
      },
      "outputs": [
        {
          "name": "stdout",
          "output_type": "stream",
          "text": [
            "[10 11 12 13 14 15 16 17 18 19] \n",
            "\n",
            "[10 12 14 16 18] \n",
            "\n",
            "[11 12 13]\n"
          ]
        }
      ],
      "source": [
        "vec= np.arange(10,20)\n",
        "print(vec, \"\\n\")\n",
        "\n",
        "vec2=vec[np.arange(0,10,2)]      # prints elemnts with index 0,2,4,6,8\n",
        "print(vec2, \"\\n\")\n",
        "\n",
        "vec2=vec[range(1,4)]             # prints elements with index 1,2,3 \n",
        "print(vec2)"
      ]
    },
    {
      "cell_type": "code",
      "execution_count": null,
      "id": "d7f05e9c-c630-40fe-be35-6d4d9d08a81e",
      "metadata": {
        "id": "d7f05e9c-c630-40fe-be35-6d4d9d08a81e",
        "outputId": "01895dc2-6639-47e6-e872-8f52f12fd238"
      },
      "outputs": [
        {
          "name": "stdout",
          "output_type": "stream",
          "text": [
            "0    1\n",
            "1    2\n",
            "2    3\n",
            "3    4\n",
            "4    5\n",
            "5    6\n",
            "dtype: int64 \n",
            "\n",
            "   0  1\n",
            "0  1  4\n",
            "1  2  5\n",
            "2  3  6\n"
          ]
        }
      ],
      "source": [
        "a = pd.Series([1,2,3])\n",
        "b = pd.Series([4,5,6])\n",
        "\n",
        "print(pd.concat([a,b], axis=0, ignore_index=True),\"\\n\")\n",
        "\n",
        "print(pd.concat([a,b], axis=1, ignore_index=True))"
      ]
    },
    {
      "cell_type": "code",
      "execution_count": null,
      "id": "f2f09ce6-11fb-434a-8f2d-00090d4c1498",
      "metadata": {
        "id": "f2f09ce6-11fb-434a-8f2d-00090d4c1498"
      },
      "outputs": [],
      "source": [
        "# save matrix to a file\n",
        "\n",
        "mat1 = [np.arange(1,10).reshape(3,3)]\n",
        "mat2 = [np.arange(11,20).reshape(3,3)]\n",
        "\n",
        "np.save(\"mat1\", mat1)                     # creates mat1.npy\n",
        "np.savez('zipped_mat1', mat1=mat1, mat2=mat2)        # creates zipped_mat1.npz"
      ]
    },
    {
      "cell_type": "code",
      "execution_count": null,
      "id": "ec18efb8-4ef3-429d-a854-a084fe1ab520",
      "metadata": {
        "id": "ec18efb8-4ef3-429d-a854-a084fe1ab520",
        "outputId": "059c4a3b-22b9-4a44-b28b-e932cd714422"
      },
      "outputs": [
        {
          "name": "stdout",
          "output_type": "stream",
          "text": [
            "Single array \n",
            " [[1 2 3]\n",
            " [4 5 6]\n",
            " [7 8 9]] \n",
            "\n",
            "Zipped arrays\n",
            " [[[1 2 3]\n",
            "  [4 5 6]\n",
            "  [7 8 9]]] \n",
            "\n",
            " [[[11 12 13]\n",
            "  [14 15 16]\n",
            "  [17 18 19]]]\n"
          ]
        }
      ],
      "source": [
        "# load the saved matrix\n",
        "\n",
        "saved_mat = np.load(\"mat1.npy\")\n",
        "print(\"Single array \\n\", saved_mat[0], \"\\n\")\n",
        "\n",
        "zipped_file = np.load(\"zipped_mat1.npz\")\n",
        "sorted(zipped_file.files)\n",
        "print(\"Zipped arrays\\n\",zipped_file[\"mat1\"], \"\\n\\n\", zipped_file[\"mat2\"])\n"
      ]
    },
    {
      "cell_type": "code",
      "execution_count": null,
      "id": "ab3ea032-ba75-47c7-b1af-6f09b9239095",
      "metadata": {
        "id": "ab3ea032-ba75-47c7-b1af-6f09b9239095",
        "outputId": "e4db5c66-d512-4c35-f259-273caa4dcd0a"
      },
      "outputs": [
        {
          "name": "stdout",
          "output_type": "stream",
          "text": [
            "[1. 2. 3. 4. 5. 6. 7. 8. 9.]\n"
          ]
        }
      ],
      "source": [
        "arr1 = [np.arange(1,10)]\n",
        "np.savetxt('text_file_name.txt', arr1, delimiter=',')        # should be 1D or 2D array\n",
        "mat_txt = np.loadtxt('text_file_name.txt', delimiter=',')\n",
        "print(mat_txt)"
      ]
    },
    {
      "cell_type": "code",
      "execution_count": null,
      "id": "353583ff-56fe-4e90-b325-2ef2326ff7d4",
      "metadata": {
        "id": "353583ff-56fe-4e90-b325-2ef2326ff7d4",
        "outputId": "9bfd9d86-281a-4478-c69e-8139fa0b068c"
      },
      "outputs": [
        {
          "name": "stdout",
          "output_type": "stream",
          "text": [
            "first     1\n",
            "second    2\n",
            "third     3\n",
            "fourth    4\n",
            "dtype: int64\n"
          ]
        }
      ],
      "source": [
        "list1 = [1,2,3,4]\n",
        "labels = ['first','second','third','fourth']\n",
        "series1 = pd.Series(data=list1, index=labels)\n",
        "print(series1)"
      ]
    },
    {
      "cell_type": "code",
      "execution_count": null,
      "id": "25a0a836-1c66-4137-b9ef-0102e62903d2",
      "metadata": {
        "id": "25a0a836-1c66-4137-b9ef-0102e62903d2",
        "outputId": "bd9a6648-7e0b-46d0-ae4c-d83271173b50"
      },
      "outputs": [
        {
          "name": "stdout",
          "output_type": "stream",
          "text": [
            "a    1\n",
            "b    2\n",
            "c    3\n",
            "dtype: int64 \n",
            "\n",
            "First element:  1\n"
          ]
        }
      ],
      "source": [
        "d = {'a': 1, 'b': 2, 'c': 3}\n",
        "series1 = pd.Series(data=d, index=['a', 'b', 'c'])\n",
        "print(series1, \"\\n\")\n",
        "print(\"First element: \", series1[\"a\"])                # accessing the first element of the series"
      ]
    },
    {
      "cell_type": "code",
      "execution_count": null,
      "id": "45224ddd-1805-44ee-88a4-f4569ba5ed47",
      "metadata": {
        "id": "45224ddd-1805-44ee-88a4-f4569ba5ed47",
        "outputId": "fd49e6e8-5900-4555-ba97-3880a6836442"
      },
      "outputs": [
        {
          "data": {
            "text/plain": [
              "x   NaN\n",
              "y   NaN\n",
              "z   NaN\n",
              "dtype: float64"
            ]
          },
          "execution_count": 245,
          "metadata": {},
          "output_type": "execute_result"
        }
      ],
      "source": [
        "d = {'a': 1, 'b': 2, 'c': 3}\n",
        "series1 = pd.Series(data=d, index=['x', 'y', 'z'])  # if creating series from a dictionary, the index should be same as the keys\n",
        "series1"
      ]
    },
    {
      "cell_type": "code",
      "execution_count": null,
      "id": "2828823c-896a-4595-92f4-afc89238e39b",
      "metadata": {
        "id": "2828823c-896a-4595-92f4-afc89238e39b",
        "outputId": "33e7f1fa-fc85-42bc-bf06-c4a13925f609"
      },
      "outputs": [
        {
          "name": "stdout",
          "output_type": "stream",
          "text": [
            "0    50\n",
            "1    70\n",
            "2    90\n",
            "dtype: int64\n"
          ]
        }
      ],
      "source": [
        "# addition of series\n",
        "\n",
        "s1 = pd.Series([10,20,30])\n",
        "s2 = pd.Series([40,50,60])\n",
        "s3 = s1+s2\n",
        "print(s3)"
      ]
    },
    {
      "cell_type": "code",
      "execution_count": null,
      "id": "7bde47ca-6c6e-4492-8c13-9459cd1ca5a6",
      "metadata": {
        "id": "7bde47ca-6c6e-4492-8c13-9459cd1ca5a6",
        "outputId": "8ed5faa5-eb0b-4875-acb8-95314b663ee1"
      },
      "outputs": [
        {
          "data": {
            "text/html": [
              "<div>\n",
              "<style scoped>\n",
              "    .dataframe tbody tr th:only-of-type {\n",
              "        vertical-align: middle;\n",
              "    }\n",
              "\n",
              "    .dataframe tbody tr th {\n",
              "        vertical-align: top;\n",
              "    }\n",
              "\n",
              "    .dataframe thead th {\n",
              "        text-align: right;\n",
              "    }\n",
              "</style>\n",
              "<table border=\"1\" class=\"dataframe\">\n",
              "  <thead>\n",
              "    <tr style=\"text-align: right;\">\n",
              "      <th></th>\n",
              "      <th>First</th>\n",
              "      <th>Sec</th>\n",
              "    </tr>\n",
              "  </thead>\n",
              "  <tbody>\n",
              "    <tr>\n",
              "      <th>0</th>\n",
              "      <td>10</td>\n",
              "      <td>40</td>\n",
              "    </tr>\n",
              "    <tr>\n",
              "      <th>1</th>\n",
              "      <td>20</td>\n",
              "      <td>50</td>\n",
              "    </tr>\n",
              "    <tr>\n",
              "      <th>2</th>\n",
              "      <td>30</td>\n",
              "      <td>60</td>\n",
              "    </tr>\n",
              "  </tbody>\n",
              "</table>\n",
              "</div>"
            ],
            "text/plain": [
              "   First  Sec\n",
              "0     10   40\n",
              "1     20   50\n",
              "2     30   60"
            ]
          },
          "execution_count": 261,
          "metadata": {},
          "output_type": "execute_result"
        }
      ],
      "source": [
        "# we can combine series to create a dataframe using the concat function\n",
        "# can combine dataframes too with concat\n",
        "\n",
        "df = pd.concat([s1,s2],axis=1,keys=[\"First\",\"Sec\"])\n",
        "df"
      ]
    },
    {
      "cell_type": "code",
      "execution_count": null,
      "id": "fadff460-7f18-42ea-8675-988be55603d3",
      "metadata": {
        "id": "fadff460-7f18-42ea-8675-988be55603d3",
        "outputId": "13a03970-8a06-41ad-e8ce-1976cd35c660"
      },
      "outputs": [
        {
          "data": {
            "text/html": [
              "<div>\n",
              "<style scoped>\n",
              "    .dataframe tbody tr th:only-of-type {\n",
              "        vertical-align: middle;\n",
              "    }\n",
              "\n",
              "    .dataframe tbody tr th {\n",
              "        vertical-align: top;\n",
              "    }\n",
              "\n",
              "    .dataframe thead th {\n",
              "        text-align: right;\n",
              "    }\n",
              "</style>\n",
              "<table border=\"1\" class=\"dataframe\">\n",
              "  <thead>\n",
              "    <tr style=\"text-align: right;\">\n",
              "      <th></th>\n",
              "      <th>0</th>\n",
              "      <th>1</th>\n",
              "      <th>2</th>\n",
              "      <th>3</th>\n",
              "      <th>4</th>\n",
              "    </tr>\n",
              "  </thead>\n",
              "  <tbody>\n",
              "    <tr>\n",
              "      <th>0</th>\n",
              "      <td>0</td>\n",
              "      <td>1</td>\n",
              "      <td>2</td>\n",
              "      <td>3</td>\n",
              "      <td>4</td>\n",
              "    </tr>\n",
              "    <tr>\n",
              "      <th>1</th>\n",
              "      <td>5</td>\n",
              "      <td>6</td>\n",
              "      <td>7</td>\n",
              "      <td>8</td>\n",
              "      <td>9</td>\n",
              "    </tr>\n",
              "    <tr>\n",
              "      <th>2</th>\n",
              "      <td>10</td>\n",
              "      <td>11</td>\n",
              "      <td>12</td>\n",
              "      <td>13</td>\n",
              "      <td>14</td>\n",
              "    </tr>\n",
              "    <tr>\n",
              "      <th>3</th>\n",
              "      <td>15</td>\n",
              "      <td>16</td>\n",
              "      <td>17</td>\n",
              "      <td>18</td>\n",
              "      <td>19</td>\n",
              "    </tr>\n",
              "  </tbody>\n",
              "</table>\n",
              "</div>"
            ],
            "text/plain": [
              "    0   1   2   3   4\n",
              "0   0   1   2   3   4\n",
              "1   5   6   7   8   9\n",
              "2  10  11  12  13  14\n",
              "3  15  16  17  18  19"
            ]
          },
          "execution_count": 282,
          "metadata": {},
          "output_type": "execute_result"
        }
      ],
      "source": [
        "df = pd.DataFrame(np.array(np.arange(0,20).reshape(4,5)))\n",
        "df"
      ]
    },
    {
      "cell_type": "code",
      "execution_count": null,
      "id": "bfcde18f-46c7-42b0-b5bc-e40a7695a86b",
      "metadata": {
        "id": "bfcde18f-46c7-42b0-b5bc-e40a7695a86b",
        "outputId": "9b5d6d8b-4942-4707-cbbe-7f5c47767c86"
      },
      "outputs": [
        {
          "data": {
            "text/html": [
              "<div>\n",
              "<style scoped>\n",
              "    .dataframe tbody tr th:only-of-type {\n",
              "        vertical-align: middle;\n",
              "    }\n",
              "\n",
              "    .dataframe tbody tr th {\n",
              "        vertical-align: top;\n",
              "    }\n",
              "\n",
              "    .dataframe thead th {\n",
              "        text-align: right;\n",
              "    }\n",
              "</style>\n",
              "<table border=\"1\" class=\"dataframe\">\n",
              "  <thead>\n",
              "    <tr style=\"text-align: right;\">\n",
              "      <th></th>\n",
              "      <th>0</th>\n",
              "      <th>2</th>\n",
              "    </tr>\n",
              "  </thead>\n",
              "  <tbody>\n",
              "    <tr>\n",
              "      <th>0</th>\n",
              "      <td>0</td>\n",
              "      <td>2</td>\n",
              "    </tr>\n",
              "    <tr>\n",
              "      <th>1</th>\n",
              "      <td>5</td>\n",
              "      <td>7</td>\n",
              "    </tr>\n",
              "    <tr>\n",
              "      <th>2</th>\n",
              "      <td>10</td>\n",
              "      <td>12</td>\n",
              "    </tr>\n",
              "  </tbody>\n",
              "</table>\n",
              "</div>"
            ],
            "text/plain": [
              "    0   2\n",
              "0   0   2\n",
              "1   5   7\n",
              "2  10  12"
            ]
          },
          "execution_count": 283,
          "metadata": {},
          "output_type": "execute_result"
        }
      ],
      "source": [
        "df.loc[[0,1,2],[0,2]]"
      ]
    },
    {
      "cell_type": "code",
      "execution_count": null,
      "id": "3512e6c6-9a2f-420f-a599-80368b3a758c",
      "metadata": {
        "id": "3512e6c6-9a2f-420f-a599-80368b3a758c",
        "outputId": "17e93f13-a02b-4581-80e9-83618f38eed3"
      },
      "outputs": [
        {
          "data": {
            "text/html": [
              "<div>\n",
              "<style scoped>\n",
              "    .dataframe tbody tr th:only-of-type {\n",
              "        vertical-align: middle;\n",
              "    }\n",
              "\n",
              "    .dataframe tbody tr th {\n",
              "        vertical-align: top;\n",
              "    }\n",
              "\n",
              "    .dataframe thead th {\n",
              "        text-align: right;\n",
              "    }\n",
              "</style>\n",
              "<table border=\"1\" class=\"dataframe\">\n",
              "  <thead>\n",
              "    <tr style=\"text-align: right;\">\n",
              "      <th></th>\n",
              "      <th>0</th>\n",
              "      <th>1</th>\n",
              "      <th>2</th>\n",
              "      <th>3</th>\n",
              "      <th>4</th>\n",
              "    </tr>\n",
              "  </thead>\n",
              "  <tbody>\n",
              "    <tr>\n",
              "      <th>0</th>\n",
              "      <td>NaN</td>\n",
              "      <td>NaN</td>\n",
              "      <td>NaN</td>\n",
              "      <td>NaN</td>\n",
              "      <td>NaN</td>\n",
              "    </tr>\n",
              "    <tr>\n",
              "      <th>1</th>\n",
              "      <td>NaN</td>\n",
              "      <td>NaN</td>\n",
              "      <td>NaN</td>\n",
              "      <td>NaN</td>\n",
              "      <td>NaN</td>\n",
              "    </tr>\n",
              "    <tr>\n",
              "      <th>2</th>\n",
              "      <td>10.0</td>\n",
              "      <td>11.0</td>\n",
              "      <td>12.0</td>\n",
              "      <td>13.0</td>\n",
              "      <td>14.0</td>\n",
              "    </tr>\n",
              "    <tr>\n",
              "      <th>3</th>\n",
              "      <td>15.0</td>\n",
              "      <td>16.0</td>\n",
              "      <td>17.0</td>\n",
              "      <td>18.0</td>\n",
              "      <td>19.0</td>\n",
              "    </tr>\n",
              "  </tbody>\n",
              "</table>\n",
              "</div>"
            ],
            "text/plain": [
              "      0     1     2     3     4\n",
              "0   NaN   NaN   NaN   NaN   NaN\n",
              "1   NaN   NaN   NaN   NaN   NaN\n",
              "2  10.0  11.0  12.0  13.0  14.0\n",
              "3  15.0  16.0  17.0  18.0  19.0"
            ]
          },
          "execution_count": 284,
          "metadata": {},
          "output_type": "execute_result"
        }
      ],
      "source": [
        "df[df>=10]"
      ]
    },
    {
      "cell_type": "code",
      "execution_count": null,
      "id": "10d40f0f-2929-4c64-bdd2-1cfc1d81730a",
      "metadata": {
        "id": "10d40f0f-2929-4c64-bdd2-1cfc1d81730a",
        "outputId": "39700004-009e-4b7d-8894-ad8de78ff122"
      },
      "outputs": [
        {
          "data": {
            "text/html": [
              "<div>\n",
              "<style scoped>\n",
              "    .dataframe tbody tr th:only-of-type {\n",
              "        vertical-align: middle;\n",
              "    }\n",
              "\n",
              "    .dataframe tbody tr th {\n",
              "        vertical-align: top;\n",
              "    }\n",
              "\n",
              "    .dataframe thead th {\n",
              "        text-align: right;\n",
              "    }\n",
              "</style>\n",
              "<table border=\"1\" class=\"dataframe\">\n",
              "  <thead>\n",
              "    <tr style=\"text-align: right;\">\n",
              "      <th></th>\n",
              "      <th>0</th>\n",
              "      <th>1</th>\n",
              "      <th>2</th>\n",
              "      <th>3</th>\n",
              "      <th>4</th>\n",
              "      <th>5</th>\n",
              "    </tr>\n",
              "  </thead>\n",
              "  <tbody>\n",
              "    <tr>\n",
              "      <th>0</th>\n",
              "      <td>0</td>\n",
              "      <td>1</td>\n",
              "      <td>2</td>\n",
              "      <td>3</td>\n",
              "      <td>4</td>\n",
              "      <td>1</td>\n",
              "    </tr>\n",
              "    <tr>\n",
              "      <th>1</th>\n",
              "      <td>5</td>\n",
              "      <td>6</td>\n",
              "      <td>7</td>\n",
              "      <td>8</td>\n",
              "      <td>9</td>\n",
              "      <td>2</td>\n",
              "    </tr>\n",
              "    <tr>\n",
              "      <th>2</th>\n",
              "      <td>10</td>\n",
              "      <td>11</td>\n",
              "      <td>12</td>\n",
              "      <td>13</td>\n",
              "      <td>14</td>\n",
              "      <td>3</td>\n",
              "    </tr>\n",
              "    <tr>\n",
              "      <th>3</th>\n",
              "      <td>15</td>\n",
              "      <td>16</td>\n",
              "      <td>17</td>\n",
              "      <td>18</td>\n",
              "      <td>19</td>\n",
              "      <td>4</td>\n",
              "    </tr>\n",
              "  </tbody>\n",
              "</table>\n",
              "</div>"
            ],
            "text/plain": [
              "    0   1   2   3   4  5\n",
              "0   0   1   2   3   4  1\n",
              "1   5   6   7   8   9  2\n",
              "2  10  11  12  13  14  3\n",
              "3  15  16  17  18  19  4"
            ]
          },
          "execution_count": 285,
          "metadata": {},
          "output_type": "execute_result"
        }
      ],
      "source": [
        "# add column to the dataframe\n",
        "\n",
        "df[5] = [1,2,3,4]\n",
        "df"
      ]
    },
    {
      "cell_type": "code",
      "execution_count": null,
      "id": "311b2eb9-c821-4d23-9132-7426d19d52ca",
      "metadata": {
        "id": "311b2eb9-c821-4d23-9132-7426d19d52ca",
        "outputId": "9d8b2578-7374-46a0-e136-ce691239af85"
      },
      "outputs": [
        {
          "data": {
            "text/html": [
              "<div>\n",
              "<style scoped>\n",
              "    .dataframe tbody tr th:only-of-type {\n",
              "        vertical-align: middle;\n",
              "    }\n",
              "\n",
              "    .dataframe tbody tr th {\n",
              "        vertical-align: top;\n",
              "    }\n",
              "\n",
              "    .dataframe thead th {\n",
              "        text-align: right;\n",
              "    }\n",
              "</style>\n",
              "<table border=\"1\" class=\"dataframe\">\n",
              "  <thead>\n",
              "    <tr style=\"text-align: right;\">\n",
              "      <th></th>\n",
              "      <th>0</th>\n",
              "      <th>2</th>\n",
              "      <th>3</th>\n",
              "      <th>4</th>\n",
              "      <th>5</th>\n",
              "    </tr>\n",
              "  </thead>\n",
              "  <tbody>\n",
              "    <tr>\n",
              "      <th>0</th>\n",
              "      <td>0</td>\n",
              "      <td>2</td>\n",
              "      <td>3</td>\n",
              "      <td>4</td>\n",
              "      <td>1</td>\n",
              "    </tr>\n",
              "    <tr>\n",
              "      <th>1</th>\n",
              "      <td>5</td>\n",
              "      <td>7</td>\n",
              "      <td>8</td>\n",
              "      <td>9</td>\n",
              "      <td>2</td>\n",
              "    </tr>\n",
              "    <tr>\n",
              "      <th>2</th>\n",
              "      <td>10</td>\n",
              "      <td>12</td>\n",
              "      <td>13</td>\n",
              "      <td>14</td>\n",
              "      <td>3</td>\n",
              "    </tr>\n",
              "    <tr>\n",
              "      <th>3</th>\n",
              "      <td>15</td>\n",
              "      <td>17</td>\n",
              "      <td>18</td>\n",
              "      <td>19</td>\n",
              "      <td>4</td>\n",
              "    </tr>\n",
              "  </tbody>\n",
              "</table>\n",
              "</div>"
            ],
            "text/plain": [
              "    0   2   3   4  5\n",
              "0   0   2   3   4  1\n",
              "1   5   7   8   9  2\n",
              "2  10  12  13  14  3\n",
              "3  15  17  18  19  4"
            ]
          },
          "execution_count": 286,
          "metadata": {},
          "output_type": "execute_result"
        }
      ],
      "source": [
        "# delete a column from the dataframe\n",
        "df = df.drop(1,axis=1)\n",
        "df"
      ]
    },
    {
      "cell_type": "code",
      "execution_count": null,
      "id": "5a2f6a46-66ac-4ab2-ac25-81fc98831f8b",
      "metadata": {
        "id": "5a2f6a46-66ac-4ab2-ac25-81fc98831f8b",
        "outputId": "458fe587-561c-4f22-e2cc-82da62ba4c03"
      },
      "outputs": [
        {
          "data": {
            "text/html": [
              "<div>\n",
              "<style scoped>\n",
              "    .dataframe tbody tr th:only-of-type {\n",
              "        vertical-align: middle;\n",
              "    }\n",
              "\n",
              "    .dataframe tbody tr th {\n",
              "        vertical-align: top;\n",
              "    }\n",
              "\n",
              "    .dataframe thead th {\n",
              "        text-align: right;\n",
              "    }\n",
              "</style>\n",
              "<table border=\"1\" class=\"dataframe\">\n",
              "  <thead>\n",
              "    <tr style=\"text-align: right;\">\n",
              "      <th></th>\n",
              "      <th>0</th>\n",
              "      <th>3</th>\n",
              "      <th>4</th>\n",
              "      <th>5</th>\n",
              "    </tr>\n",
              "  </thead>\n",
              "  <tbody>\n",
              "    <tr>\n",
              "      <th>0</th>\n",
              "      <td>0</td>\n",
              "      <td>3</td>\n",
              "      <td>4</td>\n",
              "      <td>1</td>\n",
              "    </tr>\n",
              "    <tr>\n",
              "      <th>1</th>\n",
              "      <td>5</td>\n",
              "      <td>8</td>\n",
              "      <td>9</td>\n",
              "      <td>2</td>\n",
              "    </tr>\n",
              "    <tr>\n",
              "      <th>2</th>\n",
              "      <td>10</td>\n",
              "      <td>13</td>\n",
              "      <td>14</td>\n",
              "      <td>3</td>\n",
              "    </tr>\n",
              "    <tr>\n",
              "      <th>3</th>\n",
              "      <td>15</td>\n",
              "      <td>18</td>\n",
              "      <td>19</td>\n",
              "      <td>4</td>\n",
              "    </tr>\n",
              "  </tbody>\n",
              "</table>\n",
              "</div>"
            ],
            "text/plain": [
              "    0   3   4  5\n",
              "0   0   3   4  1\n",
              "1   5   8   9  2\n",
              "2  10  13  14  3\n",
              "3  15  18  19  4"
            ]
          },
          "execution_count": 287,
          "metadata": {},
          "output_type": "execute_result"
        }
      ],
      "source": [
        "# or\n",
        "\n",
        "df.drop(2,axis=1, inplace=True)\n",
        "df"
      ]
    },
    {
      "cell_type": "code",
      "execution_count": null,
      "id": "d072c392-8f7a-40b3-a5c5-bd074c8e349b",
      "metadata": {
        "id": "d072c392-8f7a-40b3-a5c5-bd074c8e349b",
        "outputId": "315650e8-be9c-440c-bbbd-4225ae65ef2d"
      },
      "outputs": [
        {
          "data": {
            "text/html": [
              "<div>\n",
              "<style scoped>\n",
              "    .dataframe tbody tr th:only-of-type {\n",
              "        vertical-align: middle;\n",
              "    }\n",
              "\n",
              "    .dataframe tbody tr th {\n",
              "        vertical-align: top;\n",
              "    }\n",
              "\n",
              "    .dataframe thead th {\n",
              "        text-align: right;\n",
              "    }\n",
              "</style>\n",
              "<table border=\"1\" class=\"dataframe\">\n",
              "  <thead>\n",
              "    <tr style=\"text-align: right;\">\n",
              "      <th></th>\n",
              "      <th>0</th>\n",
              "      <th>3</th>\n",
              "      <th>4</th>\n",
              "      <th>5</th>\n",
              "    </tr>\n",
              "  </thead>\n",
              "  <tbody>\n",
              "    <tr>\n",
              "      <th>0</th>\n",
              "      <td>0</td>\n",
              "      <td>3</td>\n",
              "      <td>4</td>\n",
              "      <td>1</td>\n",
              "    </tr>\n",
              "    <tr>\n",
              "      <th>1</th>\n",
              "      <td>5</td>\n",
              "      <td>8</td>\n",
              "      <td>9</td>\n",
              "      <td>2</td>\n",
              "    </tr>\n",
              "    <tr>\n",
              "      <th>3</th>\n",
              "      <td>15</td>\n",
              "      <td>18</td>\n",
              "      <td>19</td>\n",
              "      <td>4</td>\n",
              "    </tr>\n",
              "  </tbody>\n",
              "</table>\n",
              "</div>"
            ],
            "text/plain": [
              "    0   3   4  5\n",
              "0   0   3   4  1\n",
              "1   5   8   9  2\n",
              "3  15  18  19  4"
            ]
          },
          "execution_count": 288,
          "metadata": {},
          "output_type": "execute_result"
        }
      ],
      "source": [
        "# drop a row\n",
        "\n",
        "df = df.drop(2,axis=0)\n",
        "df"
      ]
    },
    {
      "cell_type": "code",
      "execution_count": null,
      "id": "462df34d-0a9c-4902-9cb6-def719cd8d8c",
      "metadata": {
        "id": "462df34d-0a9c-4902-9cb6-def719cd8d8c",
        "outputId": "cdfaaac3-c407-4404-dc0f-f10d81bffbf0"
      },
      "outputs": [
        {
          "data": {
            "text/html": [
              "<div>\n",
              "<style scoped>\n",
              "    .dataframe tbody tr th:only-of-type {\n",
              "        vertical-align: middle;\n",
              "    }\n",
              "\n",
              "    .dataframe tbody tr th {\n",
              "        vertical-align: top;\n",
              "    }\n",
              "\n",
              "    .dataframe thead th {\n",
              "        text-align: right;\n",
              "    }\n",
              "</style>\n",
              "<table border=\"1\" class=\"dataframe\">\n",
              "  <thead>\n",
              "    <tr style=\"text-align: right;\">\n",
              "      <th></th>\n",
              "      <th>index</th>\n",
              "      <th>0</th>\n",
              "      <th>3</th>\n",
              "      <th>4</th>\n",
              "      <th>5</th>\n",
              "    </tr>\n",
              "  </thead>\n",
              "  <tbody>\n",
              "    <tr>\n",
              "      <th>0</th>\n",
              "      <td>0</td>\n",
              "      <td>0</td>\n",
              "      <td>3</td>\n",
              "      <td>4</td>\n",
              "      <td>1</td>\n",
              "    </tr>\n",
              "    <tr>\n",
              "      <th>1</th>\n",
              "      <td>1</td>\n",
              "      <td>5</td>\n",
              "      <td>8</td>\n",
              "      <td>9</td>\n",
              "      <td>2</td>\n",
              "    </tr>\n",
              "    <tr>\n",
              "      <th>2</th>\n",
              "      <td>3</td>\n",
              "      <td>15</td>\n",
              "      <td>18</td>\n",
              "      <td>19</td>\n",
              "      <td>4</td>\n",
              "    </tr>\n",
              "  </tbody>\n",
              "</table>\n",
              "</div>"
            ],
            "text/plain": [
              "   index   0   3   4  5\n",
              "0      0   0   3   4  1\n",
              "1      1   5   8   9  2\n",
              "2      3  15  18  19  4"
            ]
          },
          "execution_count": 289,
          "metadata": {},
          "output_type": "execute_result"
        }
      ],
      "source": [
        "#reset index of a dataframe\n",
        "\n",
        "df = df.reset_index() # or df.reset_index(inplace=True)\n",
        "df"
      ]
    },
    {
      "cell_type": "code",
      "execution_count": null,
      "id": "1c212f50-96cd-43ca-b5b9-d27fd206d94d",
      "metadata": {
        "id": "1c212f50-96cd-43ca-b5b9-d27fd206d94d",
        "outputId": "26f2f99e-7e1e-4145-f31a-cac7fe288feb"
      },
      "outputs": [
        {
          "data": {
            "text/html": [
              "<div>\n",
              "<style scoped>\n",
              "    .dataframe tbody tr th:only-of-type {\n",
              "        vertical-align: middle;\n",
              "    }\n",
              "\n",
              "    .dataframe tbody tr th {\n",
              "        vertical-align: top;\n",
              "    }\n",
              "\n",
              "    .dataframe thead th {\n",
              "        text-align: right;\n",
              "    }\n",
              "</style>\n",
              "<table border=\"1\" class=\"dataframe\">\n",
              "  <thead>\n",
              "    <tr style=\"text-align: right;\">\n",
              "      <th></th>\n",
              "      <th>0</th>\n",
              "      <th>1</th>\n",
              "      <th>2</th>\n",
              "      <th>3</th>\n",
              "      <th>4</th>\n",
              "    </tr>\n",
              "  </thead>\n",
              "  <tbody>\n",
              "    <tr>\n",
              "      <th>a</th>\n",
              "      <td>0</td>\n",
              "      <td>1</td>\n",
              "      <td>2</td>\n",
              "      <td>3</td>\n",
              "      <td>4</td>\n",
              "    </tr>\n",
              "    <tr>\n",
              "      <th>b</th>\n",
              "      <td>5</td>\n",
              "      <td>6</td>\n",
              "      <td>7</td>\n",
              "      <td>8</td>\n",
              "      <td>9</td>\n",
              "    </tr>\n",
              "    <tr>\n",
              "      <th>c</th>\n",
              "      <td>10</td>\n",
              "      <td>11</td>\n",
              "      <td>12</td>\n",
              "      <td>13</td>\n",
              "      <td>14</td>\n",
              "    </tr>\n",
              "    <tr>\n",
              "      <th>d</th>\n",
              "      <td>15</td>\n",
              "      <td>16</td>\n",
              "      <td>17</td>\n",
              "      <td>18</td>\n",
              "      <td>19</td>\n",
              "    </tr>\n",
              "  </tbody>\n",
              "</table>\n",
              "</div>"
            ],
            "text/plain": [
              "    0   1   2   3   4\n",
              "a   0   1   2   3   4\n",
              "b   5   6   7   8   9\n",
              "c  10  11  12  13  14\n",
              "d  15  16  17  18  19"
            ]
          },
          "execution_count": 298,
          "metadata": {},
          "output_type": "execute_result"
        }
      ],
      "source": [
        "# set index using an array or a series\n",
        "\n",
        "df = pd.DataFrame(np.array(np.arange(0,20).reshape(4,5)))\n",
        "ind = np.array([\"a\",\"b\",\"c\",\"d\"])\n",
        "df = df.set_index(ind)\n",
        "df"
      ]
    },
    {
      "cell_type": "code",
      "execution_count": null,
      "id": "cf7923af-97b1-4fc8-aceb-b50b58fe5275",
      "metadata": {
        "id": "cf7923af-97b1-4fc8-aceb-b50b58fe5275"
      },
      "outputs": [],
      "source": [
        "df1 = pd.DataFrame({\"customer\":['101','102','103','104'], \n",
        "                    'category': ['cat2','cat2','cat1','cat3'],\n",
        "                    'important': ['yes','no','yes','yes'],\n",
        "                    'sales': [123,52,214,663]},index=[0,1,2,3])\n",
        "\n",
        "df2 = pd.DataFrame({\"customer\":['101','103','104','105'], \n",
        "                    'color': ['yellow','green','green','blue'],\n",
        "                    'distance': [12,9,44,21],\n",
        "                    'sales': [123,214,663,331]},index=[4,5,6,7])"
      ]
    },
    {
      "cell_type": "code",
      "execution_count": null,
      "id": "c9d090fb-a00c-47b3-b6c8-f4a9d1ab0866",
      "metadata": {
        "id": "c9d090fb-a00c-47b3-b6c8-f4a9d1ab0866",
        "outputId": "626288cf-2c6b-4fa2-dd60-9e7109c8743e"
      },
      "outputs": [
        {
          "data": {
            "text/html": [
              "<div>\n",
              "<style scoped>\n",
              "    .dataframe tbody tr th:only-of-type {\n",
              "        vertical-align: middle;\n",
              "    }\n",
              "\n",
              "    .dataframe tbody tr th {\n",
              "        vertical-align: top;\n",
              "    }\n",
              "\n",
              "    .dataframe thead th {\n",
              "        text-align: right;\n",
              "    }\n",
              "</style>\n",
              "<table border=\"1\" class=\"dataframe\">\n",
              "  <thead>\n",
              "    <tr style=\"text-align: right;\">\n",
              "      <th></th>\n",
              "      <th>customer</th>\n",
              "      <th>category</th>\n",
              "      <th>important</th>\n",
              "      <th>sales</th>\n",
              "    </tr>\n",
              "  </thead>\n",
              "  <tbody>\n",
              "    <tr>\n",
              "      <th>0</th>\n",
              "      <td>101</td>\n",
              "      <td>cat2</td>\n",
              "      <td>yes</td>\n",
              "      <td>123</td>\n",
              "    </tr>\n",
              "    <tr>\n",
              "      <th>1</th>\n",
              "      <td>102</td>\n",
              "      <td>cat2</td>\n",
              "      <td>no</td>\n",
              "      <td>52</td>\n",
              "    </tr>\n",
              "    <tr>\n",
              "      <th>2</th>\n",
              "      <td>103</td>\n",
              "      <td>cat1</td>\n",
              "      <td>yes</td>\n",
              "      <td>214</td>\n",
              "    </tr>\n",
              "    <tr>\n",
              "      <th>3</th>\n",
              "      <td>104</td>\n",
              "      <td>cat3</td>\n",
              "      <td>yes</td>\n",
              "      <td>663</td>\n",
              "    </tr>\n",
              "  </tbody>\n",
              "</table>\n",
              "</div>"
            ],
            "text/plain": [
              "  customer category important  sales\n",
              "0      101     cat2       yes    123\n",
              "1      102     cat2        no     52\n",
              "2      103     cat1       yes    214\n",
              "3      104     cat3       yes    663"
            ]
          },
          "execution_count": 301,
          "metadata": {},
          "output_type": "execute_result"
        }
      ],
      "source": [
        "df1"
      ]
    },
    {
      "cell_type": "code",
      "execution_count": null,
      "id": "539ee2a4-1c98-4ebe-a076-dd51b6e2d770",
      "metadata": {
        "id": "539ee2a4-1c98-4ebe-a076-dd51b6e2d770",
        "outputId": "0a4ee7e8-12b6-4502-8ab1-eee9ad8a049d"
      },
      "outputs": [
        {
          "data": {
            "text/html": [
              "<div>\n",
              "<style scoped>\n",
              "    .dataframe tbody tr th:only-of-type {\n",
              "        vertical-align: middle;\n",
              "    }\n",
              "\n",
              "    .dataframe tbody tr th {\n",
              "        vertical-align: top;\n",
              "    }\n",
              "\n",
              "    .dataframe thead th {\n",
              "        text-align: right;\n",
              "    }\n",
              "</style>\n",
              "<table border=\"1\" class=\"dataframe\">\n",
              "  <thead>\n",
              "    <tr style=\"text-align: right;\">\n",
              "      <th></th>\n",
              "      <th>customer</th>\n",
              "      <th>color</th>\n",
              "      <th>distance</th>\n",
              "      <th>sales</th>\n",
              "    </tr>\n",
              "  </thead>\n",
              "  <tbody>\n",
              "    <tr>\n",
              "      <th>4</th>\n",
              "      <td>101</td>\n",
              "      <td>yellow</td>\n",
              "      <td>12</td>\n",
              "      <td>123</td>\n",
              "    </tr>\n",
              "    <tr>\n",
              "      <th>5</th>\n",
              "      <td>103</td>\n",
              "      <td>green</td>\n",
              "      <td>9</td>\n",
              "      <td>214</td>\n",
              "    </tr>\n",
              "    <tr>\n",
              "      <th>6</th>\n",
              "      <td>104</td>\n",
              "      <td>green</td>\n",
              "      <td>44</td>\n",
              "      <td>663</td>\n",
              "    </tr>\n",
              "    <tr>\n",
              "      <th>7</th>\n",
              "      <td>105</td>\n",
              "      <td>blue</td>\n",
              "      <td>21</td>\n",
              "      <td>331</td>\n",
              "    </tr>\n",
              "  </tbody>\n",
              "</table>\n",
              "</div>"
            ],
            "text/plain": [
              "  customer   color  distance  sales\n",
              "4      101  yellow        12    123\n",
              "5      103   green         9    214\n",
              "6      104   green        44    663\n",
              "7      105    blue        21    331"
            ]
          },
          "execution_count": 302,
          "metadata": {},
          "output_type": "execute_result"
        }
      ],
      "source": [
        "df2"
      ]
    },
    {
      "cell_type": "code",
      "execution_count": null,
      "id": "d6f6c973-a136-4425-bc21-811b602e8d6c",
      "metadata": {
        "id": "d6f6c973-a136-4425-bc21-811b602e8d6c",
        "outputId": "60e1d819-14f6-4963-c4dc-0b6501a38d6f"
      },
      "outputs": [
        {
          "data": {
            "text/html": [
              "<div>\n",
              "<style scoped>\n",
              "    .dataframe tbody tr th:only-of-type {\n",
              "        vertical-align: middle;\n",
              "    }\n",
              "\n",
              "    .dataframe tbody tr th {\n",
              "        vertical-align: top;\n",
              "    }\n",
              "\n",
              "    .dataframe thead th {\n",
              "        text-align: right;\n",
              "    }\n",
              "</style>\n",
              "<table border=\"1\" class=\"dataframe\">\n",
              "  <thead>\n",
              "    <tr style=\"text-align: right;\">\n",
              "      <th></th>\n",
              "      <th>customer</th>\n",
              "      <th>category</th>\n",
              "      <th>important</th>\n",
              "      <th>sales</th>\n",
              "      <th>color</th>\n",
              "      <th>distance</th>\n",
              "    </tr>\n",
              "  </thead>\n",
              "  <tbody>\n",
              "    <tr>\n",
              "      <th>0</th>\n",
              "      <td>101</td>\n",
              "      <td>cat2</td>\n",
              "      <td>yes</td>\n",
              "      <td>123</td>\n",
              "      <td>NaN</td>\n",
              "      <td>NaN</td>\n",
              "    </tr>\n",
              "    <tr>\n",
              "      <th>1</th>\n",
              "      <td>102</td>\n",
              "      <td>cat2</td>\n",
              "      <td>no</td>\n",
              "      <td>52</td>\n",
              "      <td>NaN</td>\n",
              "      <td>NaN</td>\n",
              "    </tr>\n",
              "    <tr>\n",
              "      <th>2</th>\n",
              "      <td>103</td>\n",
              "      <td>cat1</td>\n",
              "      <td>yes</td>\n",
              "      <td>214</td>\n",
              "      <td>NaN</td>\n",
              "      <td>NaN</td>\n",
              "    </tr>\n",
              "    <tr>\n",
              "      <th>3</th>\n",
              "      <td>104</td>\n",
              "      <td>cat3</td>\n",
              "      <td>yes</td>\n",
              "      <td>663</td>\n",
              "      <td>NaN</td>\n",
              "      <td>NaN</td>\n",
              "    </tr>\n",
              "    <tr>\n",
              "      <th>4</th>\n",
              "      <td>101</td>\n",
              "      <td>NaN</td>\n",
              "      <td>NaN</td>\n",
              "      <td>123</td>\n",
              "      <td>yellow</td>\n",
              "      <td>12.0</td>\n",
              "    </tr>\n",
              "    <tr>\n",
              "      <th>5</th>\n",
              "      <td>103</td>\n",
              "      <td>NaN</td>\n",
              "      <td>NaN</td>\n",
              "      <td>214</td>\n",
              "      <td>green</td>\n",
              "      <td>9.0</td>\n",
              "    </tr>\n",
              "    <tr>\n",
              "      <th>6</th>\n",
              "      <td>104</td>\n",
              "      <td>NaN</td>\n",
              "      <td>NaN</td>\n",
              "      <td>663</td>\n",
              "      <td>green</td>\n",
              "      <td>44.0</td>\n",
              "    </tr>\n",
              "    <tr>\n",
              "      <th>7</th>\n",
              "      <td>105</td>\n",
              "      <td>NaN</td>\n",
              "      <td>NaN</td>\n",
              "      <td>331</td>\n",
              "      <td>blue</td>\n",
              "      <td>21.0</td>\n",
              "    </tr>\n",
              "  </tbody>\n",
              "</table>\n",
              "</div>"
            ],
            "text/plain": [
              "  customer category important  sales   color  distance\n",
              "0      101     cat2       yes    123     NaN       NaN\n",
              "1      102     cat2        no     52     NaN       NaN\n",
              "2      103     cat1       yes    214     NaN       NaN\n",
              "3      104     cat3       yes    663     NaN       NaN\n",
              "4      101      NaN       NaN    123  yellow      12.0\n",
              "5      103      NaN       NaN    214   green       9.0\n",
              "6      104      NaN       NaN    663   green      44.0\n",
              "7      105      NaN       NaN    331    blue      21.0"
            ]
          },
          "execution_count": 304,
          "metadata": {},
          "output_type": "execute_result"
        }
      ],
      "source": [
        "pd.concat([df1,df2],axis=0,sort=False)"
      ]
    },
    {
      "cell_type": "code",
      "execution_count": null,
      "id": "368cfb5c-a7f6-4c65-9a28-a2fe667643a1",
      "metadata": {
        "id": "368cfb5c-a7f6-4c65-9a28-a2fe667643a1",
        "outputId": "1ebf66f5-441e-4ad9-898e-0fafd0d26a16"
      },
      "outputs": [
        {
          "data": {
            "text/html": [
              "<div>\n",
              "<style scoped>\n",
              "    .dataframe tbody tr th:only-of-type {\n",
              "        vertical-align: middle;\n",
              "    }\n",
              "\n",
              "    .dataframe tbody tr th {\n",
              "        vertical-align: top;\n",
              "    }\n",
              "\n",
              "    .dataframe thead th {\n",
              "        text-align: right;\n",
              "    }\n",
              "</style>\n",
              "<table border=\"1\" class=\"dataframe\">\n",
              "  <thead>\n",
              "    <tr style=\"text-align: right;\">\n",
              "      <th></th>\n",
              "      <th>category</th>\n",
              "      <th>color</th>\n",
              "      <th>customer</th>\n",
              "      <th>distance</th>\n",
              "      <th>important</th>\n",
              "      <th>sales</th>\n",
              "    </tr>\n",
              "  </thead>\n",
              "  <tbody>\n",
              "    <tr>\n",
              "      <th>0</th>\n",
              "      <td>cat2</td>\n",
              "      <td>NaN</td>\n",
              "      <td>101</td>\n",
              "      <td>NaN</td>\n",
              "      <td>yes</td>\n",
              "      <td>123</td>\n",
              "    </tr>\n",
              "    <tr>\n",
              "      <th>1</th>\n",
              "      <td>cat2</td>\n",
              "      <td>NaN</td>\n",
              "      <td>102</td>\n",
              "      <td>NaN</td>\n",
              "      <td>no</td>\n",
              "      <td>52</td>\n",
              "    </tr>\n",
              "    <tr>\n",
              "      <th>2</th>\n",
              "      <td>cat1</td>\n",
              "      <td>NaN</td>\n",
              "      <td>103</td>\n",
              "      <td>NaN</td>\n",
              "      <td>yes</td>\n",
              "      <td>214</td>\n",
              "    </tr>\n",
              "    <tr>\n",
              "      <th>3</th>\n",
              "      <td>cat3</td>\n",
              "      <td>NaN</td>\n",
              "      <td>104</td>\n",
              "      <td>NaN</td>\n",
              "      <td>yes</td>\n",
              "      <td>663</td>\n",
              "    </tr>\n",
              "    <tr>\n",
              "      <th>4</th>\n",
              "      <td>NaN</td>\n",
              "      <td>yellow</td>\n",
              "      <td>101</td>\n",
              "      <td>12.0</td>\n",
              "      <td>NaN</td>\n",
              "      <td>123</td>\n",
              "    </tr>\n",
              "    <tr>\n",
              "      <th>5</th>\n",
              "      <td>NaN</td>\n",
              "      <td>green</td>\n",
              "      <td>103</td>\n",
              "      <td>9.0</td>\n",
              "      <td>NaN</td>\n",
              "      <td>214</td>\n",
              "    </tr>\n",
              "    <tr>\n",
              "      <th>6</th>\n",
              "      <td>NaN</td>\n",
              "      <td>green</td>\n",
              "      <td>104</td>\n",
              "      <td>44.0</td>\n",
              "      <td>NaN</td>\n",
              "      <td>663</td>\n",
              "    </tr>\n",
              "    <tr>\n",
              "      <th>7</th>\n",
              "      <td>NaN</td>\n",
              "      <td>blue</td>\n",
              "      <td>105</td>\n",
              "      <td>21.0</td>\n",
              "      <td>NaN</td>\n",
              "      <td>331</td>\n",
              "    </tr>\n",
              "  </tbody>\n",
              "</table>\n",
              "</div>"
            ],
            "text/plain": [
              "  category   color customer  distance important  sales\n",
              "0     cat2     NaN      101       NaN       yes    123\n",
              "1     cat2     NaN      102       NaN        no     52\n",
              "2     cat1     NaN      103       NaN       yes    214\n",
              "3     cat3     NaN      104       NaN       yes    663\n",
              "4      NaN  yellow      101      12.0       NaN    123\n",
              "5      NaN   green      103       9.0       NaN    214\n",
              "6      NaN   green      104      44.0       NaN    663\n",
              "7      NaN    blue      105      21.0       NaN    331"
            ]
          },
          "execution_count": 307,
          "metadata": {},
          "output_type": "execute_result"
        }
      ],
      "source": [
        "pd.concat([df1,df2],axis=0,sort=True)"
      ]
    },
    {
      "cell_type": "code",
      "execution_count": null,
      "id": "9452d9e1-00f3-4106-9382-b4fbf1dd300e",
      "metadata": {
        "id": "9452d9e1-00f3-4106-9382-b4fbf1dd300e",
        "outputId": "f86e3d4b-13ea-4251-8f69-189679792940"
      },
      "outputs": [
        {
          "data": {
            "text/html": [
              "<div>\n",
              "<style scoped>\n",
              "    .dataframe tbody tr th:only-of-type {\n",
              "        vertical-align: middle;\n",
              "    }\n",
              "\n",
              "    .dataframe tbody tr th {\n",
              "        vertical-align: top;\n",
              "    }\n",
              "\n",
              "    .dataframe thead th {\n",
              "        text-align: right;\n",
              "    }\n",
              "</style>\n",
              "<table border=\"1\" class=\"dataframe\">\n",
              "  <thead>\n",
              "    <tr style=\"text-align: right;\">\n",
              "      <th></th>\n",
              "      <th>customer</th>\n",
              "      <th>category</th>\n",
              "      <th>important</th>\n",
              "      <th>sales</th>\n",
              "      <th>customer</th>\n",
              "      <th>color</th>\n",
              "      <th>distance</th>\n",
              "      <th>sales</th>\n",
              "    </tr>\n",
              "  </thead>\n",
              "  <tbody>\n",
              "    <tr>\n",
              "      <th>0</th>\n",
              "      <td>101</td>\n",
              "      <td>cat2</td>\n",
              "      <td>yes</td>\n",
              "      <td>123.0</td>\n",
              "      <td>NaN</td>\n",
              "      <td>NaN</td>\n",
              "      <td>NaN</td>\n",
              "      <td>NaN</td>\n",
              "    </tr>\n",
              "    <tr>\n",
              "      <th>1</th>\n",
              "      <td>102</td>\n",
              "      <td>cat2</td>\n",
              "      <td>no</td>\n",
              "      <td>52.0</td>\n",
              "      <td>NaN</td>\n",
              "      <td>NaN</td>\n",
              "      <td>NaN</td>\n",
              "      <td>NaN</td>\n",
              "    </tr>\n",
              "    <tr>\n",
              "      <th>2</th>\n",
              "      <td>103</td>\n",
              "      <td>cat1</td>\n",
              "      <td>yes</td>\n",
              "      <td>214.0</td>\n",
              "      <td>NaN</td>\n",
              "      <td>NaN</td>\n",
              "      <td>NaN</td>\n",
              "      <td>NaN</td>\n",
              "    </tr>\n",
              "    <tr>\n",
              "      <th>3</th>\n",
              "      <td>104</td>\n",
              "      <td>cat3</td>\n",
              "      <td>yes</td>\n",
              "      <td>663.0</td>\n",
              "      <td>NaN</td>\n",
              "      <td>NaN</td>\n",
              "      <td>NaN</td>\n",
              "      <td>NaN</td>\n",
              "    </tr>\n",
              "    <tr>\n",
              "      <th>4</th>\n",
              "      <td>NaN</td>\n",
              "      <td>NaN</td>\n",
              "      <td>NaN</td>\n",
              "      <td>NaN</td>\n",
              "      <td>101</td>\n",
              "      <td>yellow</td>\n",
              "      <td>12.0</td>\n",
              "      <td>123.0</td>\n",
              "    </tr>\n",
              "    <tr>\n",
              "      <th>5</th>\n",
              "      <td>NaN</td>\n",
              "      <td>NaN</td>\n",
              "      <td>NaN</td>\n",
              "      <td>NaN</td>\n",
              "      <td>103</td>\n",
              "      <td>green</td>\n",
              "      <td>9.0</td>\n",
              "      <td>214.0</td>\n",
              "    </tr>\n",
              "    <tr>\n",
              "      <th>6</th>\n",
              "      <td>NaN</td>\n",
              "      <td>NaN</td>\n",
              "      <td>NaN</td>\n",
              "      <td>NaN</td>\n",
              "      <td>104</td>\n",
              "      <td>green</td>\n",
              "      <td>44.0</td>\n",
              "      <td>663.0</td>\n",
              "    </tr>\n",
              "    <tr>\n",
              "      <th>7</th>\n",
              "      <td>NaN</td>\n",
              "      <td>NaN</td>\n",
              "      <td>NaN</td>\n",
              "      <td>NaN</td>\n",
              "      <td>105</td>\n",
              "      <td>blue</td>\n",
              "      <td>21.0</td>\n",
              "      <td>331.0</td>\n",
              "    </tr>\n",
              "  </tbody>\n",
              "</table>\n",
              "</div>"
            ],
            "text/plain": [
              "  customer category important  sales customer   color  distance  sales\n",
              "0      101     cat2       yes  123.0      NaN     NaN       NaN    NaN\n",
              "1      102     cat2        no   52.0      NaN     NaN       NaN    NaN\n",
              "2      103     cat1       yes  214.0      NaN     NaN       NaN    NaN\n",
              "3      104     cat3       yes  663.0      NaN     NaN       NaN    NaN\n",
              "4      NaN      NaN       NaN    NaN      101  yellow      12.0  123.0\n",
              "5      NaN      NaN       NaN    NaN      103   green       9.0  214.0\n",
              "6      NaN      NaN       NaN    NaN      104   green      44.0  663.0\n",
              "7      NaN      NaN       NaN    NaN      105    blue      21.0  331.0"
            ]
          },
          "execution_count": 309,
          "metadata": {},
          "output_type": "execute_result"
        }
      ],
      "source": [
        "pd.concat([df1,df2],axis=1,sort=False)"
      ]
    },
    {
      "cell_type": "markdown",
      "id": "7cee83d7-9917-4ae2-8208-04435dc3964a",
      "metadata": {
        "id": "7cee83d7-9917-4ae2-8208-04435dc3964a"
      },
      "source": [
        "### Merge and Join\n",
        "- Merge combines dataframes using a column's values to identify common entries\n",
        "- Join combines dataframes using the index to identify common entries"
      ]
    },
    {
      "cell_type": "code",
      "execution_count": null,
      "id": "72da5077-9795-4e9d-9459-513806d31a7c",
      "metadata": {
        "id": "72da5077-9795-4e9d-9459-513806d31a7c",
        "outputId": "ed64596e-9e9f-495f-88c6-16f32c2dadf3"
      },
      "outputs": [
        {
          "data": {
            "text/html": [
              "<div>\n",
              "<style scoped>\n",
              "    .dataframe tbody tr th:only-of-type {\n",
              "        vertical-align: middle;\n",
              "    }\n",
              "\n",
              "    .dataframe tbody tr th {\n",
              "        vertical-align: top;\n",
              "    }\n",
              "\n",
              "    .dataframe thead th {\n",
              "        text-align: right;\n",
              "    }\n",
              "</style>\n",
              "<table border=\"1\" class=\"dataframe\">\n",
              "  <thead>\n",
              "    <tr style=\"text-align: right;\">\n",
              "      <th></th>\n",
              "      <th>customer</th>\n",
              "      <th>category</th>\n",
              "      <th>important</th>\n",
              "      <th>sales_x</th>\n",
              "      <th>color</th>\n",
              "      <th>distance</th>\n",
              "      <th>sales_y</th>\n",
              "    </tr>\n",
              "  </thead>\n",
              "  <tbody>\n",
              "    <tr>\n",
              "      <th>0</th>\n",
              "      <td>101</td>\n",
              "      <td>cat2</td>\n",
              "      <td>yes</td>\n",
              "      <td>123.0</td>\n",
              "      <td>yellow</td>\n",
              "      <td>12.0</td>\n",
              "      <td>123.0</td>\n",
              "    </tr>\n",
              "    <tr>\n",
              "      <th>1</th>\n",
              "      <td>102</td>\n",
              "      <td>cat2</td>\n",
              "      <td>no</td>\n",
              "      <td>52.0</td>\n",
              "      <td>NaN</td>\n",
              "      <td>NaN</td>\n",
              "      <td>NaN</td>\n",
              "    </tr>\n",
              "    <tr>\n",
              "      <th>2</th>\n",
              "      <td>103</td>\n",
              "      <td>cat1</td>\n",
              "      <td>yes</td>\n",
              "      <td>214.0</td>\n",
              "      <td>green</td>\n",
              "      <td>9.0</td>\n",
              "      <td>214.0</td>\n",
              "    </tr>\n",
              "    <tr>\n",
              "      <th>3</th>\n",
              "      <td>104</td>\n",
              "      <td>cat3</td>\n",
              "      <td>yes</td>\n",
              "      <td>663.0</td>\n",
              "      <td>green</td>\n",
              "      <td>44.0</td>\n",
              "      <td>663.0</td>\n",
              "    </tr>\n",
              "    <tr>\n",
              "      <th>4</th>\n",
              "      <td>105</td>\n",
              "      <td>NaN</td>\n",
              "      <td>NaN</td>\n",
              "      <td>NaN</td>\n",
              "      <td>blue</td>\n",
              "      <td>21.0</td>\n",
              "      <td>331.0</td>\n",
              "    </tr>\n",
              "  </tbody>\n",
              "</table>\n",
              "</div>"
            ],
            "text/plain": [
              "  customer category important  sales_x   color  distance  sales_y\n",
              "0      101     cat2       yes    123.0  yellow      12.0    123.0\n",
              "1      102     cat2        no     52.0     NaN       NaN      NaN\n",
              "2      103     cat1       yes    214.0   green       9.0    214.0\n",
              "3      104     cat3       yes    663.0   green      44.0    663.0\n",
              "4      105      NaN       NaN      NaN    blue      21.0    331.0"
            ]
          },
          "execution_count": 310,
          "metadata": {},
          "output_type": "execute_result"
        }
      ],
      "source": [
        "# outer merge is union based on the column given\n",
        "\n",
        "pd.merge(df1,df2,how='outer',on='customer') "
      ]
    },
    {
      "cell_type": "code",
      "execution_count": null,
      "id": "8f180b90-c786-4e10-b359-5e92921f19b5",
      "metadata": {
        "id": "8f180b90-c786-4e10-b359-5e92921f19b5",
        "outputId": "d923a623-9cca-4ebc-c7d4-108b19f01238"
      },
      "outputs": [
        {
          "data": {
            "text/html": [
              "<div>\n",
              "<style scoped>\n",
              "    .dataframe tbody tr th:only-of-type {\n",
              "        vertical-align: middle;\n",
              "    }\n",
              "\n",
              "    .dataframe tbody tr th {\n",
              "        vertical-align: top;\n",
              "    }\n",
              "\n",
              "    .dataframe thead th {\n",
              "        text-align: right;\n",
              "    }\n",
              "</style>\n",
              "<table border=\"1\" class=\"dataframe\">\n",
              "  <thead>\n",
              "    <tr style=\"text-align: right;\">\n",
              "      <th></th>\n",
              "      <th>customer</th>\n",
              "      <th>category</th>\n",
              "      <th>important</th>\n",
              "      <th>sales_x</th>\n",
              "      <th>color</th>\n",
              "      <th>distance</th>\n",
              "      <th>sales_y</th>\n",
              "    </tr>\n",
              "  </thead>\n",
              "  <tbody>\n",
              "    <tr>\n",
              "      <th>0</th>\n",
              "      <td>101</td>\n",
              "      <td>cat2</td>\n",
              "      <td>yes</td>\n",
              "      <td>123</td>\n",
              "      <td>yellow</td>\n",
              "      <td>12</td>\n",
              "      <td>123</td>\n",
              "    </tr>\n",
              "    <tr>\n",
              "      <th>1</th>\n",
              "      <td>103</td>\n",
              "      <td>cat1</td>\n",
              "      <td>yes</td>\n",
              "      <td>214</td>\n",
              "      <td>green</td>\n",
              "      <td>9</td>\n",
              "      <td>214</td>\n",
              "    </tr>\n",
              "    <tr>\n",
              "      <th>2</th>\n",
              "      <td>104</td>\n",
              "      <td>cat3</td>\n",
              "      <td>yes</td>\n",
              "      <td>663</td>\n",
              "      <td>green</td>\n",
              "      <td>44</td>\n",
              "      <td>663</td>\n",
              "    </tr>\n",
              "  </tbody>\n",
              "</table>\n",
              "</div>"
            ],
            "text/plain": [
              "  customer category important  sales_x   color  distance  sales_y\n",
              "0      101     cat2       yes      123  yellow        12      123\n",
              "1      103     cat1       yes      214   green         9      214\n",
              "2      104     cat3       yes      663   green        44      663"
            ]
          },
          "execution_count": 312,
          "metadata": {},
          "output_type": "execute_result"
        }
      ],
      "source": [
        "pd.merge(df1,df2,how='inner',on='customer') # inner merge is intersection "
      ]
    },
    {
      "cell_type": "code",
      "execution_count": null,
      "id": "0cd0f826-45b5-4897-b38f-5662ff9159e9",
      "metadata": {
        "id": "0cd0f826-45b5-4897-b38f-5662ff9159e9",
        "outputId": "7efbc01a-5a24-44ce-eca1-eca4569acd40"
      },
      "outputs": [
        {
          "data": {
            "text/html": [
              "<div>\n",
              "<style scoped>\n",
              "    .dataframe tbody tr th:only-of-type {\n",
              "        vertical-align: middle;\n",
              "    }\n",
              "\n",
              "    .dataframe tbody tr th {\n",
              "        vertical-align: top;\n",
              "    }\n",
              "\n",
              "    .dataframe thead th {\n",
              "        text-align: right;\n",
              "    }\n",
              "</style>\n",
              "<table border=\"1\" class=\"dataframe\">\n",
              "  <thead>\n",
              "    <tr style=\"text-align: right;\">\n",
              "      <th></th>\n",
              "      <th>customer</th>\n",
              "      <th>category</th>\n",
              "      <th>important</th>\n",
              "      <th>sales_x</th>\n",
              "      <th>color</th>\n",
              "      <th>distance</th>\n",
              "      <th>sales_y</th>\n",
              "    </tr>\n",
              "  </thead>\n",
              "  <tbody>\n",
              "    <tr>\n",
              "      <th>0</th>\n",
              "      <td>101</td>\n",
              "      <td>cat2</td>\n",
              "      <td>yes</td>\n",
              "      <td>123</td>\n",
              "      <td>yellow</td>\n",
              "      <td>12.0</td>\n",
              "      <td>123.0</td>\n",
              "    </tr>\n",
              "    <tr>\n",
              "      <th>1</th>\n",
              "      <td>102</td>\n",
              "      <td>cat2</td>\n",
              "      <td>no</td>\n",
              "      <td>52</td>\n",
              "      <td>NaN</td>\n",
              "      <td>NaN</td>\n",
              "      <td>NaN</td>\n",
              "    </tr>\n",
              "    <tr>\n",
              "      <th>2</th>\n",
              "      <td>103</td>\n",
              "      <td>cat1</td>\n",
              "      <td>yes</td>\n",
              "      <td>214</td>\n",
              "      <td>green</td>\n",
              "      <td>9.0</td>\n",
              "      <td>214.0</td>\n",
              "    </tr>\n",
              "    <tr>\n",
              "      <th>3</th>\n",
              "      <td>104</td>\n",
              "      <td>cat3</td>\n",
              "      <td>yes</td>\n",
              "      <td>663</td>\n",
              "      <td>green</td>\n",
              "      <td>44.0</td>\n",
              "      <td>663.0</td>\n",
              "    </tr>\n",
              "  </tbody>\n",
              "</table>\n",
              "</div>"
            ],
            "text/plain": [
              "  customer category important  sales_x   color  distance  sales_y\n",
              "0      101     cat2       yes      123  yellow      12.0    123.0\n",
              "1      102     cat2        no       52     NaN       NaN      NaN\n",
              "2      103     cat1       yes      214   green       9.0    214.0\n",
              "3      104     cat3       yes      663   green      44.0    663.0"
            ]
          },
          "execution_count": 318,
          "metadata": {},
          "output_type": "execute_result"
        }
      ],
      "source": [
        "# left merge is just first on, but all columns ... right is second\n",
        "\n",
        "pd.merge(df1,df2,how='left',on='customer') "
      ]
    },
    {
      "cell_type": "code",
      "execution_count": null,
      "id": "7d0e6c14-58e8-4771-ab5e-226053cb878d",
      "metadata": {
        "id": "7d0e6c14-58e8-4771-ab5e-226053cb878d",
        "outputId": "3521fa0a-1b11-4c6f-afff-1cb0f549dcb6"
      },
      "outputs": [
        {
          "data": {
            "text/html": [
              "<div>\n",
              "<style scoped>\n",
              "    .dataframe tbody tr th:only-of-type {\n",
              "        vertical-align: middle;\n",
              "    }\n",
              "\n",
              "    .dataframe tbody tr th {\n",
              "        vertical-align: top;\n",
              "    }\n",
              "\n",
              "    .dataframe thead th {\n",
              "        text-align: right;\n",
              "    }\n",
              "</style>\n",
              "<table border=\"1\" class=\"dataframe\">\n",
              "  <thead>\n",
              "    <tr style=\"text-align: right;\">\n",
              "      <th></th>\n",
              "      <th>customer</th>\n",
              "      <th>category</th>\n",
              "      <th>important</th>\n",
              "      <th>sales_x</th>\n",
              "      <th>color</th>\n",
              "      <th>distance</th>\n",
              "      <th>sales_y</th>\n",
              "    </tr>\n",
              "  </thead>\n",
              "  <tbody>\n",
              "    <tr>\n",
              "      <th>0</th>\n",
              "      <td>101</td>\n",
              "      <td>cat2</td>\n",
              "      <td>yes</td>\n",
              "      <td>123.0</td>\n",
              "      <td>yellow</td>\n",
              "      <td>12</td>\n",
              "      <td>123</td>\n",
              "    </tr>\n",
              "    <tr>\n",
              "      <th>1</th>\n",
              "      <td>103</td>\n",
              "      <td>cat1</td>\n",
              "      <td>yes</td>\n",
              "      <td>214.0</td>\n",
              "      <td>green</td>\n",
              "      <td>9</td>\n",
              "      <td>214</td>\n",
              "    </tr>\n",
              "    <tr>\n",
              "      <th>2</th>\n",
              "      <td>104</td>\n",
              "      <td>cat3</td>\n",
              "      <td>yes</td>\n",
              "      <td>663.0</td>\n",
              "      <td>green</td>\n",
              "      <td>44</td>\n",
              "      <td>663</td>\n",
              "    </tr>\n",
              "    <tr>\n",
              "      <th>3</th>\n",
              "      <td>105</td>\n",
              "      <td>NaN</td>\n",
              "      <td>NaN</td>\n",
              "      <td>NaN</td>\n",
              "      <td>blue</td>\n",
              "      <td>21</td>\n",
              "      <td>331</td>\n",
              "    </tr>\n",
              "  </tbody>\n",
              "</table>\n",
              "</div>"
            ],
            "text/plain": [
              "  customer category important  sales_x   color  distance  sales_y\n",
              "0      101     cat2       yes    123.0  yellow        12      123\n",
              "1      103     cat1       yes    214.0   green         9      214\n",
              "2      104     cat3       yes    663.0   green        44      663\n",
              "3      105      NaN       NaN      NaN    blue        21      331"
            ]
          },
          "execution_count": 319,
          "metadata": {},
          "output_type": "execute_result"
        }
      ],
      "source": [
        "pd.merge(df1,df2,how='right',on='customer') "
      ]
    },
    {
      "cell_type": "code",
      "execution_count": null,
      "id": "5e44e33e-11da-4535-8030-f9c531384cdf",
      "metadata": {
        "id": "5e44e33e-11da-4535-8030-f9c531384cdf"
      },
      "outputs": [],
      "source": [
        "df9 = pd.DataFrame({'Q1': [101,102,103],\n",
        "                    'Q2': [201,202,203]},\n",
        "                   index=['I0','I1','I2'])\n",
        "\n",
        "df10 = pd.DataFrame({'Q3': [301,302,303],\n",
        "                    'Q4': [401,402,403]},\n",
        "                   index=['I0','I2','I3'])"
      ]
    },
    {
      "cell_type": "code",
      "execution_count": null,
      "id": "d179c891-e29f-4aa9-a651-64c1d217a2ac",
      "metadata": {
        "id": "d179c891-e29f-4aa9-a651-64c1d217a2ac",
        "outputId": "c171013b-65fa-4699-c2a3-0ffab8985175"
      },
      "outputs": [
        {
          "data": {
            "text/html": [
              "<div>\n",
              "<style scoped>\n",
              "    .dataframe tbody tr th:only-of-type {\n",
              "        vertical-align: middle;\n",
              "    }\n",
              "\n",
              "    .dataframe tbody tr th {\n",
              "        vertical-align: top;\n",
              "    }\n",
              "\n",
              "    .dataframe thead th {\n",
              "        text-align: right;\n",
              "    }\n",
              "</style>\n",
              "<table border=\"1\" class=\"dataframe\">\n",
              "  <thead>\n",
              "    <tr style=\"text-align: right;\">\n",
              "      <th></th>\n",
              "      <th>Q1</th>\n",
              "      <th>Q2</th>\n",
              "    </tr>\n",
              "  </thead>\n",
              "  <tbody>\n",
              "    <tr>\n",
              "      <th>I0</th>\n",
              "      <td>101</td>\n",
              "      <td>201</td>\n",
              "    </tr>\n",
              "    <tr>\n",
              "      <th>I1</th>\n",
              "      <td>102</td>\n",
              "      <td>202</td>\n",
              "    </tr>\n",
              "    <tr>\n",
              "      <th>I2</th>\n",
              "      <td>103</td>\n",
              "      <td>203</td>\n",
              "    </tr>\n",
              "  </tbody>\n",
              "</table>\n",
              "</div>"
            ],
            "text/plain": [
              "     Q1   Q2\n",
              "I0  101  201\n",
              "I1  102  202\n",
              "I2  103  203"
            ]
          },
          "execution_count": 321,
          "metadata": {},
          "output_type": "execute_result"
        }
      ],
      "source": [
        "df9"
      ]
    },
    {
      "cell_type": "code",
      "execution_count": null,
      "id": "433e307e-2c21-48b3-90a2-0c46dc9f54d6",
      "metadata": {
        "id": "433e307e-2c21-48b3-90a2-0c46dc9f54d6",
        "outputId": "8a3465ad-cde8-4a13-aa03-76a7836e051c"
      },
      "outputs": [
        {
          "data": {
            "text/html": [
              "<div>\n",
              "<style scoped>\n",
              "    .dataframe tbody tr th:only-of-type {\n",
              "        vertical-align: middle;\n",
              "    }\n",
              "\n",
              "    .dataframe tbody tr th {\n",
              "        vertical-align: top;\n",
              "    }\n",
              "\n",
              "    .dataframe thead th {\n",
              "        text-align: right;\n",
              "    }\n",
              "</style>\n",
              "<table border=\"1\" class=\"dataframe\">\n",
              "  <thead>\n",
              "    <tr style=\"text-align: right;\">\n",
              "      <th></th>\n",
              "      <th>Q3</th>\n",
              "      <th>Q4</th>\n",
              "    </tr>\n",
              "  </thead>\n",
              "  <tbody>\n",
              "    <tr>\n",
              "      <th>I0</th>\n",
              "      <td>301</td>\n",
              "      <td>401</td>\n",
              "    </tr>\n",
              "    <tr>\n",
              "      <th>I2</th>\n",
              "      <td>302</td>\n",
              "      <td>402</td>\n",
              "    </tr>\n",
              "    <tr>\n",
              "      <th>I3</th>\n",
              "      <td>303</td>\n",
              "      <td>403</td>\n",
              "    </tr>\n",
              "  </tbody>\n",
              "</table>\n",
              "</div>"
            ],
            "text/plain": [
              "     Q3   Q4\n",
              "I0  301  401\n",
              "I2  302  402\n",
              "I3  303  403"
            ]
          },
          "execution_count": 322,
          "metadata": {},
          "output_type": "execute_result"
        }
      ],
      "source": [
        "df10"
      ]
    },
    {
      "cell_type": "code",
      "execution_count": null,
      "id": "c2bf33bc-e31e-4fe3-bc02-65e3ebb46b58",
      "metadata": {
        "id": "c2bf33bc-e31e-4fe3-bc02-65e3ebb46b58",
        "outputId": "c6a92f18-870a-4129-ad71-958938f2f783"
      },
      "outputs": [
        {
          "data": {
            "text/html": [
              "<div>\n",
              "<style scoped>\n",
              "    .dataframe tbody tr th:only-of-type {\n",
              "        vertical-align: middle;\n",
              "    }\n",
              "\n",
              "    .dataframe tbody tr th {\n",
              "        vertical-align: top;\n",
              "    }\n",
              "\n",
              "    .dataframe thead th {\n",
              "        text-align: right;\n",
              "    }\n",
              "</style>\n",
              "<table border=\"1\" class=\"dataframe\">\n",
              "  <thead>\n",
              "    <tr style=\"text-align: right;\">\n",
              "      <th></th>\n",
              "      <th>Q1</th>\n",
              "      <th>Q2</th>\n",
              "      <th>Q3</th>\n",
              "      <th>Q4</th>\n",
              "    </tr>\n",
              "  </thead>\n",
              "  <tbody>\n",
              "    <tr>\n",
              "      <th>I0</th>\n",
              "      <td>101.0</td>\n",
              "      <td>201.0</td>\n",
              "      <td>301</td>\n",
              "      <td>401</td>\n",
              "    </tr>\n",
              "    <tr>\n",
              "      <th>I2</th>\n",
              "      <td>103.0</td>\n",
              "      <td>203.0</td>\n",
              "      <td>302</td>\n",
              "      <td>402</td>\n",
              "    </tr>\n",
              "    <tr>\n",
              "      <th>I3</th>\n",
              "      <td>NaN</td>\n",
              "      <td>NaN</td>\n",
              "      <td>303</td>\n",
              "      <td>403</td>\n",
              "    </tr>\n",
              "  </tbody>\n",
              "</table>\n",
              "</div>"
            ],
            "text/plain": [
              "       Q1     Q2   Q3   Q4\n",
              "I0  101.0  201.0  301  401\n",
              "I2  103.0  203.0  302  402\n",
              "I3    NaN    NaN  303  403"
            ]
          },
          "execution_count": 323,
          "metadata": {},
          "output_type": "execute_result"
        }
      ],
      "source": [
        "# join behaves just like merge, except instead of using the values of one of the columns to combine data frames, it uses the index labels\n",
        "\n",
        "df9.join(df10,how='right') # outer, inner, left, and right work the same as merge"
      ]
    },
    {
      "cell_type": "code",
      "execution_count": null,
      "id": "c3a14f41-0e11-462c-aff5-4d40acfd58df",
      "metadata": {
        "id": "c3a14f41-0e11-462c-aff5-4d40acfd58df",
        "outputId": "dd043943-80f5-4c7a-d3ff-95f708c67242"
      },
      "outputs": [
        {
          "data": {
            "text/plain": [
              "4    6\n",
              "5    5\n",
              "6    5\n",
              "7    4\n",
              "Name: color, dtype: int64"
            ]
          },
          "execution_count": 326,
          "metadata": {},
          "output_type": "execute_result"
        }
      ],
      "source": [
        "# applies function len() on the entire column - gives length of the entries\n",
        "\n",
        "df2[\"color\"].apply(len)"
      ]
    },
    {
      "cell_type": "code",
      "execution_count": null,
      "id": "c823a6bf-5739-4a28-af75-0aa7ba64df51",
      "metadata": {
        "id": "c823a6bf-5739-4a28-af75-0aa7ba64df51",
        "outputId": "a165e76b-1850-44e8-8a92-fd6ae5526f69"
      },
      "outputs": [
        {
          "data": {
            "text/html": [
              "<div>\n",
              "<style scoped>\n",
              "    .dataframe tbody tr th:only-of-type {\n",
              "        vertical-align: middle;\n",
              "    }\n",
              "\n",
              "    .dataframe tbody tr th {\n",
              "        vertical-align: top;\n",
              "    }\n",
              "\n",
              "    .dataframe thead th {\n",
              "        text-align: right;\n",
              "    }\n",
              "</style>\n",
              "<table border=\"1\" class=\"dataframe\">\n",
              "  <thead>\n",
              "    <tr style=\"text-align: right;\">\n",
              "      <th></th>\n",
              "      <th>customer</th>\n",
              "      <th>color</th>\n",
              "      <th>distance</th>\n",
              "      <th>sales</th>\n",
              "    </tr>\n",
              "  </thead>\n",
              "  <tbody>\n",
              "    <tr>\n",
              "      <th>4</th>\n",
              "      <td>101</td>\n",
              "      <td>yellow</td>\n",
              "      <td>12</td>\n",
              "      <td>123</td>\n",
              "    </tr>\n",
              "    <tr>\n",
              "      <th>5</th>\n",
              "      <td>103</td>\n",
              "      <td>green</td>\n",
              "      <td>9</td>\n",
              "      <td>214</td>\n",
              "    </tr>\n",
              "    <tr>\n",
              "      <th>6</th>\n",
              "      <td>104</td>\n",
              "      <td>green</td>\n",
              "      <td>44</td>\n",
              "      <td>663</td>\n",
              "    </tr>\n",
              "    <tr>\n",
              "      <th>7</th>\n",
              "      <td>105</td>\n",
              "      <td>blue</td>\n",
              "      <td>21</td>\n",
              "      <td>331</td>\n",
              "    </tr>\n",
              "  </tbody>\n",
              "</table>\n",
              "</div>"
            ],
            "text/plain": [
              "  customer   color  distance  sales\n",
              "4      101  yellow        12    123\n",
              "5      103   green         9    214\n",
              "6      104   green        44    663\n",
              "7      105    blue        21    331"
            ]
          },
          "execution_count": 335,
          "metadata": {},
          "output_type": "execute_result"
        }
      ],
      "source": [
        "df2"
      ]
    },
    {
      "cell_type": "code",
      "execution_count": null,
      "id": "fd03c221-ea31-4cd9-8588-bb31b3e07b68",
      "metadata": {
        "id": "fd03c221-ea31-4cd9-8588-bb31b3e07b68",
        "outputId": "5bd0f487-4dfa-43d0-a242-38a55e485cc2"
      },
      "outputs": [
        {
          "data": {
            "text/html": [
              "<div>\n",
              "<style scoped>\n",
              "    .dataframe tbody tr th:only-of-type {\n",
              "        vertical-align: middle;\n",
              "    }\n",
              "\n",
              "    .dataframe tbody tr th {\n",
              "        vertical-align: top;\n",
              "    }\n",
              "\n",
              "    .dataframe thead th {\n",
              "        text-align: right;\n",
              "    }\n",
              "</style>\n",
              "<table border=\"1\" class=\"dataframe\">\n",
              "  <thead>\n",
              "    <tr style=\"text-align: right;\">\n",
              "      <th></th>\n",
              "      <th>distance</th>\n",
              "      <th>sales</th>\n",
              "    </tr>\n",
              "  </thead>\n",
              "  <tbody>\n",
              "    <tr>\n",
              "      <th>4</th>\n",
              "      <td>6.0</td>\n",
              "      <td>61.5</td>\n",
              "    </tr>\n",
              "    <tr>\n",
              "      <th>5</th>\n",
              "      <td>4.5</td>\n",
              "      <td>107.0</td>\n",
              "    </tr>\n",
              "    <tr>\n",
              "      <th>6</th>\n",
              "      <td>22.0</td>\n",
              "      <td>331.5</td>\n",
              "    </tr>\n",
              "    <tr>\n",
              "      <th>7</th>\n",
              "      <td>10.5</td>\n",
              "      <td>165.5</td>\n",
              "    </tr>\n",
              "  </tbody>\n",
              "</table>\n",
              "</div>"
            ],
            "text/plain": [
              "   distance  sales\n",
              "4       6.0   61.5\n",
              "5       4.5  107.0\n",
              "6      22.0  331.5\n",
              "7      10.5  165.5"
            ]
          },
          "execution_count": 336,
          "metadata": {},
          "output_type": "execute_result"
        }
      ],
      "source": [
        "def profit(s):\n",
        "    return s*0.5 \n",
        "\n",
        "# applymap works on a pandas Dataframe where a function is applied to every element individually\n",
        "df11 = df2[['distance','sales']]\n",
        "df11.applymap(profit)"
      ]
    },
    {
      "cell_type": "code",
      "execution_count": null,
      "id": "cbafb22c-7b67-4a98-ad89-5753d59ca572",
      "metadata": {
        "id": "cbafb22c-7b67-4a98-ad89-5753d59ca572",
        "outputId": "551024e2-fe06-413c-c4d5-125687a2312e"
      },
      "outputs": [
        {
          "data": {
            "text/plain": [
              "distance      86\n",
              "sales       1331\n",
              "dtype: int64"
            ]
          },
          "execution_count": 334,
          "metadata": {},
          "output_type": "execute_result"
        }
      ],
      "source": [
        "def col_sum(co):\n",
        "    return sum(co)\n",
        "\n",
        "df11.apply(col_sum)"
      ]
    },
    {
      "cell_type": "code",
      "execution_count": null,
      "id": "d8f5efb1-e668-4008-b67d-93fac18d823b",
      "metadata": {
        "id": "d8f5efb1-e668-4008-b67d-93fac18d823b"
      },
      "outputs": [],
      "source": [
        "# df11.applymap(col_sum) # here applymap gives error as col_sum works on the entire column whereas applymap is for every element in the dataframe"
      ]
    },
    {
      "cell_type": "code",
      "execution_count": null,
      "id": "630e1be0-70e4-486d-a9d5-75d2f84ed75b",
      "metadata": {
        "id": "630e1be0-70e4-486d-a9d5-75d2f84ed75b",
        "outputId": "b8925e7f-eda2-47b3-cc0b-0a405ae976af"
      },
      "outputs": [
        {
          "data": {
            "text/plain": [
              "4    Sales is 123\n",
              "5    Sales is 214\n",
              "6    Sales is 663\n",
              "7    Sales is 331\n",
              "Name: sales, dtype: object"
            ]
          },
          "execution_count": 343,
          "metadata": {},
          "output_type": "execute_result"
        }
      ],
      "source": [
        "df11[\"sales\"].map('Sales is {}'.format)"
      ]
    },
    {
      "cell_type": "code",
      "execution_count": null,
      "id": "9a1997ea-118f-4bf3-bcdf-f92b8271f17d",
      "metadata": {
        "id": "9a1997ea-118f-4bf3-bcdf-f92b8271f17d",
        "outputId": "24460bf3-a086-475a-9e70-ba4a937bcafe"
      },
      "outputs": [
        {
          "data": {
            "text/html": [
              "<div>\n",
              "<style scoped>\n",
              "    .dataframe tbody tr th:only-of-type {\n",
              "        vertical-align: middle;\n",
              "    }\n",
              "\n",
              "    .dataframe tbody tr th {\n",
              "        vertical-align: top;\n",
              "    }\n",
              "\n",
              "    .dataframe thead th {\n",
              "        text-align: right;\n",
              "    }\n",
              "</style>\n",
              "<table border=\"1\" class=\"dataframe\">\n",
              "  <thead>\n",
              "    <tr style=\"text-align: right;\">\n",
              "      <th></th>\n",
              "      <th>distance</th>\n",
              "      <th>sales</th>\n",
              "    </tr>\n",
              "  </thead>\n",
              "  <tbody>\n",
              "    <tr>\n",
              "      <th>4</th>\n",
              "      <td>12</td>\n",
              "      <td>123</td>\n",
              "    </tr>\n",
              "    <tr>\n",
              "      <th>5</th>\n",
              "      <td>9</td>\n",
              "      <td>214</td>\n",
              "    </tr>\n",
              "    <tr>\n",
              "      <th>6</th>\n",
              "      <td>44</td>\n",
              "      <td>663</td>\n",
              "    </tr>\n",
              "    <tr>\n",
              "      <th>7</th>\n",
              "      <td>21</td>\n",
              "      <td>331</td>\n",
              "    </tr>\n",
              "  </tbody>\n",
              "</table>\n",
              "</div>"
            ],
            "text/plain": [
              "   distance  sales\n",
              "4        12    123\n",
              "5         9    214\n",
              "6        44    663\n",
              "7        21    331"
            ]
          },
          "execution_count": 347,
          "metadata": {},
          "output_type": "execute_result"
        }
      ],
      "source": [
        "# similar to numpy arrays, we can also save and load dataframes to csv files, and also Excel files\n",
        "\n",
        "df11.to_csv('df11.csv',index=True)\n",
        "new_df = pd.read_csv('df11.csv',index_col=0)\n",
        "new_df"
      ]
    },
    {
      "cell_type": "code",
      "execution_count": null,
      "id": "222ea9e6-0557-4d8a-b971-a290ea75715f",
      "metadata": {
        "id": "222ea9e6-0557-4d8a-b971-a290ea75715f",
        "outputId": "7b9c5b57-d259-4615-e458-b3a75b1fdac3"
      },
      "outputs": [
        {
          "data": {
            "text/html": [
              "<div>\n",
              "<style scoped>\n",
              "    .dataframe tbody tr th:only-of-type {\n",
              "        vertical-align: middle;\n",
              "    }\n",
              "\n",
              "    .dataframe tbody tr th {\n",
              "        vertical-align: top;\n",
              "    }\n",
              "\n",
              "    .dataframe thead th {\n",
              "        text-align: right;\n",
              "    }\n",
              "</style>\n",
              "<table border=\"1\" class=\"dataframe\">\n",
              "  <thead>\n",
              "    <tr style=\"text-align: right;\">\n",
              "      <th></th>\n",
              "      <th>distance</th>\n",
              "    </tr>\n",
              "    <tr>\n",
              "      <th>sales</th>\n",
              "      <th></th>\n",
              "    </tr>\n",
              "  </thead>\n",
              "  <tbody>\n",
              "    <tr>\n",
              "      <th>123</th>\n",
              "      <td>12</td>\n",
              "    </tr>\n",
              "    <tr>\n",
              "      <th>214</th>\n",
              "      <td>9</td>\n",
              "    </tr>\n",
              "    <tr>\n",
              "      <th>663</th>\n",
              "      <td>44</td>\n",
              "    </tr>\n",
              "    <tr>\n",
              "      <th>331</th>\n",
              "      <td>21</td>\n",
              "    </tr>\n",
              "  </tbody>\n",
              "</table>\n",
              "</div>"
            ],
            "text/plain": [
              "       distance\n",
              "sales          \n",
              "123          12\n",
              "214           9\n",
              "663          44\n",
              "331          21"
            ]
          },
          "execution_count": 348,
          "metadata": {},
          "output_type": "execute_result"
        }
      ],
      "source": [
        "df11.to_excel('df11.xlsx',index=False,sheet_name='first sheet')\n",
        "new_df = pd.read_excel('df11.xlsx',sheet_name='first sheet',index_col=1)\n",
        "new_df"
      ]
    },
    {
      "cell_type": "code",
      "execution_count": null,
      "id": "21dae17d-405e-4960-bb05-7ecfc061a24b",
      "metadata": {
        "id": "21dae17d-405e-4960-bb05-7ecfc061a24b",
        "outputId": "c56f332d-4fd7-4103-bc35-5a0a2c4807f1"
      },
      "outputs": [
        {
          "name": "stdout",
          "output_type": "stream",
          "text": [
            "[[0. 0.]\n",
            " [0. 0.]]\n",
            "\n",
            "[[1. 1. 1.]\n",
            " [1. 1. 1.]\n",
            " [1. 1. 1.]]\n",
            "\n",
            "[[1. 0. 0.]\n",
            " [0. 1. 0.]\n",
            " [0. 0. 1.]]\n"
          ]
        }
      ],
      "source": [
        "mat2 = np.zeros([2,2])\n",
        "print(mat2)\n",
        "mat3 = np.ones((3,3))\n",
        "print('')\n",
        "print(mat3)\n",
        "mat4 = np.eye(3)\n",
        "print('')\n",
        "print(mat4)"
      ]
    },
    {
      "cell_type": "code",
      "execution_count": null,
      "id": "f63e5090-2e6b-484a-a074-a010db914ee2",
      "metadata": {
        "id": "f63e5090-2e6b-484a-a074-a010db914ee2",
        "outputId": "609dfbcf-15bb-43cb-f3c5-d483c4fae463"
      },
      "outputs": [
        {
          "name": "stdout",
          "output_type": "stream",
          "text": [
            "[1 2 3 4 5]\n",
            "[3 4 5 6 7]\n",
            "[ 4  6  8 10 12]\n",
            "[2 2 2 2 2]\n",
            "[ 3  8 15 24 35]\n",
            "[1.         0.5        0.33333333 0.25       0.2       ]\n",
            "[1.73205081 2.         2.23606798 2.44948974 2.64575131]\n"
          ]
        }
      ],
      "source": [
        "vec5 = np.arange(1,6)\n",
        "vec6 = np.arange(3,8)\n",
        "print(vec5)\n",
        "print(vec6)\n",
        "print(vec5+vec6)\n",
        "print(vec6-vec5)\n",
        "print(vec5*vec6)\n",
        "print(1/vec5)\n",
        "print(np.sqrt(vec6))"
      ]
    },
    {
      "cell_type": "code",
      "execution_count": null,
      "id": "db292ab4-59ec-4a9e-891b-7520a50a9741",
      "metadata": {
        "id": "db292ab4-59ec-4a9e-891b-7520a50a9741",
        "outputId": "5c878b95-603a-430e-89f5-1b6534832071"
      },
      "outputs": [
        {
          "name": "stdout",
          "output_type": "stream",
          "text": [
            "85\n"
          ]
        }
      ],
      "source": [
        "# we can do matrix multiplication\n",
        "\n",
        "product = np.matmul(vec5,vec6)\n",
        "print(product)"
      ]
    },
    {
      "cell_type": "code",
      "execution_count": null,
      "id": "109e729d-0c79-499f-9530-964fac377ec6",
      "metadata": {
        "id": "109e729d-0c79-499f-9530-964fac377ec6",
        "outputId": "98737a93-570a-4fa8-f739-e03749f9e2d7"
      },
      "outputs": [
        {
          "name": "stdout",
          "output_type": "stream",
          "text": [
            "['blue' 'red' 'orange' 'purple' 'purple' 'orange' 'Red' '6']\n",
            "['6' 'Red' 'blue' 'orange' 'purple' 'red']\n"
          ]
        }
      ],
      "source": [
        "# we can find the unique values in an array\n",
        "\n",
        "vec7 = np.array(['blue','red','orange','purple','purple','orange','Red',6])\n",
        "print(vec7)\n",
        "print(np.unique(vec7))"
      ]
    },
    {
      "cell_type": "code",
      "execution_count": null,
      "id": "0f3fb3af-0687-41c5-8e62-af5812da93df",
      "metadata": {
        "id": "0f3fb3af-0687-41c5-8e62-af5812da93df",
        "outputId": "7b6c9735-4d21-4134-d86b-cdfc8b5ab120"
      },
      "outputs": [
        {
          "name": "stdout",
          "output_type": "stream",
          "text": [
            "[[0 1 2]\n",
            " [3 4 5]\n",
            " [6 7 8]]\n"
          ]
        }
      ],
      "source": [
        "a = np.array(np.arange(0,9).reshape(3,3))\n",
        "print(a)"
      ]
    },
    {
      "cell_type": "code",
      "execution_count": null,
      "id": "65442ecb-712d-43d9-9bcf-e232290397e1",
      "metadata": {
        "id": "65442ecb-712d-43d9-9bcf-e232290397e1",
        "outputId": "3950bb9b-f326-4fff-dc88-cf88b58c2374"
      },
      "outputs": [
        {
          "name": "stdout",
          "output_type": "stream",
          "text": [
            "5\n",
            "5\n",
            "[[1 2]\n",
            " [4 5]]\n"
          ]
        }
      ],
      "source": [
        "# accessing elements of an array\n",
        "\n",
        "print(a[1][2])\n",
        "print(a[1,2])\n",
        "print(a[0:2,1:3])"
      ]
    },
    {
      "cell_type": "code",
      "execution_count": null,
      "id": "589c4f67-afa7-4b64-b27d-e5e150610f66",
      "metadata": {
        "id": "589c4f67-afa7-4b64-b27d-e5e150610f66",
        "outputId": "edc980f1-f26b-4c00-e21d-303b3d1e6f7a"
      },
      "outputs": [
        {
          "name": "stdout",
          "output_type": "stream",
          "text": [
            "[[1 2]\n",
            " [4 5]] \n",
            "\n",
            "[[7 7]\n",
            " [7 7]] \n",
            "\n",
            "[[0 7 7]\n",
            " [3 7 7]\n",
            " [6 7 8]] \n",
            "\n"
          ]
        }
      ],
      "source": [
        "b = a[0:2,1:3]\n",
        "print(b,\"\\n\")\n",
        "b[:] = 7\n",
        "print(b,\"\\n\")\n",
        "print(a,\"\\n\")           # changes in b are reflected in a as well"
      ]
    },
    {
      "cell_type": "code",
      "execution_count": null,
      "id": "61f0bf47-285a-4015-9008-3513de167400",
      "metadata": {
        "id": "61f0bf47-285a-4015-9008-3513de167400",
        "outputId": "dcfc11a8-f2bc-4cf5-be3e-c8e8a2c78d4d"
      },
      "outputs": [
        {
          "name": "stdout",
          "output_type": "stream",
          "text": [
            "Matrix a: \n",
            " [[0 1 2]\n",
            " [3 4 5]\n",
            " [6 7 8]] \n",
            "\n",
            "Copied Matrix b: \n",
            " [[1 2]\n",
            " [4 5]] \n",
            "\n",
            "Changed Matrix b: \n",
            " [[7 7]\n",
            " [7 7]] \n",
            "\n",
            "Unaffected Matrix a: \n",
            " [[0 1 2]\n",
            " [3 4 5]\n",
            " [6 7 8]] \n",
            "\n"
          ]
        }
      ],
      "source": [
        "a = np.array(np.arange(0,9).reshape(3,3))\n",
        "print(\"Matrix a: \\n\",a,\"\\n\")\n",
        "\n",
        "b = a[0:2,1:3].copy()                      # creates a separate matrix \n",
        "print(\"Copied Matrix b: \\n\",b,\"\\n\")\n",
        "b[:] = 7\n",
        "print(\"Changed Matrix b: \\n\",b,\"\\n\")\n",
        "print(\"Unaffected Matrix a: \\n\",a,\"\\n\")           # changes in b are not reflected in a "
      ]
    },
    {
      "cell_type": "code",
      "execution_count": null,
      "id": "b74f264a-5b62-4032-af1c-33c3fbf4bdce",
      "metadata": {
        "id": "b74f264a-5b62-4032-af1c-33c3fbf4bdce",
        "outputId": "113ae017-6648-4d8b-a7db-81f1b7b386ca"
      },
      "outputs": [
        {
          "name": "stdout",
          "output_type": "stream",
          "text": [
            "[ 2  4 22 67 30 17 40 18]\n",
            "[ 2  4 22  2  2 17  2 18]\n"
          ]
        }
      ],
      "source": [
        "vec=np.array([2, 4, 22, 67, 30, 17, 40, 18])\n",
        "print(vec)\n",
        "vec=np.where(vec>25,2,vec)                      # this works only with arrays and not with lists\n",
        "print(vec)"
      ]
    },
    {
      "cell_type": "code",
      "execution_count": null,
      "id": "b5803429-c611-43a4-82db-2bf179d516fb",
      "metadata": {
        "id": "b5803429-c611-43a4-82db-2bf179d516fb"
      },
      "outputs": [],
      "source": [
        "import numpy as np\n",
        "import pandas as pd"
      ]
    },
    {
      "cell_type": "code",
      "execution_count": null,
      "id": "f388a7e0-1175-4ca4-b86d-ba4d9e4f08b5",
      "metadata": {
        "id": "f388a7e0-1175-4ca4-b86d-ba4d9e4f08b5"
      },
      "outputs": [],
      "source": [
        "df = pd.read_csv(\"Quality.csv\")"
      ]
    },
    {
      "cell_type": "code",
      "execution_count": null,
      "id": "41df7f4f-6804-4622-9d93-3bee003a1fac",
      "metadata": {
        "id": "41df7f4f-6804-4622-9d93-3bee003a1fac",
        "outputId": "bc5376e1-5bb9-4bd6-858b-d6c7aa933fc2"
      },
      "outputs": [
        {
          "data": {
            "text/html": [
              "<style type=\"text/css\">\n",
              "#T_2fcfe_row0_col0, #T_2fcfe_row2_col0, #T_2fcfe_row3_col0, #T_2fcfe_row4_col0, #T_2fcfe_row5_col0, #T_2fcfe_row7_col0, #T_2fcfe_row8_col0, #T_2fcfe_row10_col0, #T_2fcfe_row11_col0 {\n",
              "  background-color: ;\n",
              "}\n",
              "#T_2fcfe_row1_col0, #T_2fcfe_row6_col0, #T_2fcfe_row9_col0 {\n",
              "  background-color: yellow;\n",
              "}\n",
              "</style>\n",
              "<table id=\"T_2fcfe\">\n",
              "  <thead>\n",
              "    <tr>\n",
              "      <th class=\"blank level0\" >&nbsp;</th>\n",
              "      <th id=\"T_2fcfe_level0_col0\" class=\"col_heading level0 col0\" >Null_values</th>\n",
              "      <th id=\"T_2fcfe_level0_col1\" class=\"col_heading level0 col1\" >Data_types</th>\n",
              "    </tr>\n",
              "  </thead>\n",
              "  <tbody>\n",
              "    <tr>\n",
              "      <th id=\"T_2fcfe_level0_row0\" class=\"row_heading level0 row0\" >Unnamed: 0</th>\n",
              "      <td id=\"T_2fcfe_row0_col0\" class=\"data row0 col0\" >0</td>\n",
              "      <td id=\"T_2fcfe_row0_col1\" class=\"data row0 col1\" >int64</td>\n",
              "    </tr>\n",
              "    <tr>\n",
              "      <th id=\"T_2fcfe_level0_row1\" class=\"row_heading level0 row1\" >Tartaric Acid</th>\n",
              "      <td id=\"T_2fcfe_row1_col0\" class=\"data row1 col0\" >8</td>\n",
              "      <td id=\"T_2fcfe_row1_col1\" class=\"data row1 col1\" >float64</td>\n",
              "    </tr>\n",
              "    <tr>\n",
              "      <th id=\"T_2fcfe_level0_row2\" class=\"row_heading level0 row2\" >Grape Density</th>\n",
              "      <td id=\"T_2fcfe_row2_col0\" class=\"data row2 col0\" >0</td>\n",
              "      <td id=\"T_2fcfe_row2_col1\" class=\"data row2 col1\" >float64</td>\n",
              "    </tr>\n",
              "    <tr>\n",
              "      <th id=\"T_2fcfe_level0_row3\" class=\"row_heading level0 row3\" >Citric Acid</th>\n",
              "      <td id=\"T_2fcfe_row3_col0\" class=\"data row3 col0\" >0</td>\n",
              "      <td id=\"T_2fcfe_row3_col1\" class=\"data row3 col1\" >float64</td>\n",
              "    </tr>\n",
              "    <tr>\n",
              "      <th id=\"T_2fcfe_level0_row4\" class=\"row_heading level0 row4\" >Residual.sugar</th>\n",
              "      <td id=\"T_2fcfe_row4_col0\" class=\"data row4 col0\" >0</td>\n",
              "      <td id=\"T_2fcfe_row4_col1\" class=\"data row4 col1\" >float64</td>\n",
              "    </tr>\n",
              "    <tr>\n",
              "      <th id=\"T_2fcfe_level0_row5\" class=\"row_heading level0 row5\" >Sodium chloride</th>\n",
              "      <td id=\"T_2fcfe_row5_col0\" class=\"data row5 col0\" >0</td>\n",
              "      <td id=\"T_2fcfe_row5_col1\" class=\"data row5 col1\" >float64</td>\n",
              "    </tr>\n",
              "    <tr>\n",
              "      <th id=\"T_2fcfe_level0_row6\" class=\"row_heading level0 row6\" >Free.sulfur.dioxide</th>\n",
              "      <td id=\"T_2fcfe_row6_col0\" class=\"data row6 col0\" >11</td>\n",
              "      <td id=\"T_2fcfe_row6_col1\" class=\"data row6 col1\" >float64</td>\n",
              "    </tr>\n",
              "    <tr>\n",
              "      <th id=\"T_2fcfe_level0_row7\" class=\"row_heading level0 row7\" >Bound.sulfur.dioxide</th>\n",
              "      <td id=\"T_2fcfe_row7_col0\" class=\"data row7 col0\" >0</td>\n",
              "      <td id=\"T_2fcfe_row7_col1\" class=\"data row7 col1\" >float64</td>\n",
              "    </tr>\n",
              "    <tr>\n",
              "      <th id=\"T_2fcfe_level0_row8\" class=\"row_heading level0 row8\" >Alcohol Density</th>\n",
              "      <td id=\"T_2fcfe_row8_col0\" class=\"data row8 col0\" >0</td>\n",
              "      <td id=\"T_2fcfe_row8_col1\" class=\"data row8 col1\" >float64</td>\n",
              "    </tr>\n",
              "    <tr>\n",
              "      <th id=\"T_2fcfe_level0_row9\" class=\"row_heading level0 row9\" >PH Levels</th>\n",
              "      <td id=\"T_2fcfe_row9_col0\" class=\"data row9 col0\" >15</td>\n",
              "      <td id=\"T_2fcfe_row9_col1\" class=\"data row9 col1\" >float64</td>\n",
              "    </tr>\n",
              "    <tr>\n",
              "      <th id=\"T_2fcfe_level0_row10\" class=\"row_heading level0 row10\" >Potassium chloride</th>\n",
              "      <td id=\"T_2fcfe_row10_col0\" class=\"data row10 col0\" >0</td>\n",
              "      <td id=\"T_2fcfe_row10_col1\" class=\"data row10 col1\" >float64</td>\n",
              "    </tr>\n",
              "    <tr>\n",
              "      <th id=\"T_2fcfe_level0_row11\" class=\"row_heading level0 row11\" >Alcohol Content</th>\n",
              "      <td id=\"T_2fcfe_row11_col0\" class=\"data row11 col0\" >0</td>\n",
              "      <td id=\"T_2fcfe_row11_col1\" class=\"data row11 col1\" >float64</td>\n",
              "    </tr>\n",
              "  </tbody>\n",
              "</table>\n"
            ],
            "text/plain": [
              "<pandas.io.formats.style.Styler at 0x1d6f14e5ee0>"
            ]
          },
          "execution_count": 7,
          "metadata": {},
          "output_type": "execute_result"
        }
      ],
      "source": [
        "#highlight cells in dataframe display\n",
        "def light(val):\n",
        "    color = \"yellow\" if val >0  else \"\"\n",
        "    return 'background-color: {}'.format(color)\n",
        "\n",
        "dataframe = df\n",
        "df_info = pd.DataFrame(dataframe.isnull().sum(), columns=[\"Null_values\"])\n",
        "df_info[\"Data_types\"] = dataframe.dtypes\n",
        "df_info.style.applymap(light, subset=[\"Null_values\"])"
      ]
    },
    {
      "cell_type": "code",
      "execution_count": null,
      "id": "12040899-5f28-40e3-b58d-27f5bf5b5054",
      "metadata": {
        "id": "12040899-5f28-40e3-b58d-27f5bf5b5054",
        "outputId": "eb9f6fe1-2600-4367-c18b-82066cb90eb9"
      },
      "outputs": [
        {
          "ename": "NameError",
          "evalue": "name 'np' is not defined",
          "output_type": "error",
          "traceback": [
            "\u001b[1;31m---------------------------------------------------------------------------\u001b[0m",
            "\u001b[1;31mNameError\u001b[0m                                 Traceback (most recent call last)",
            "Cell \u001b[1;32mIn[7], line 6\u001b[0m\n\u001b[0;32m      4\u001b[0m col \u001b[38;5;241m=\u001b[39m [\u001b[38;5;124m\"\u001b[39m\u001b[38;5;124mReviews\u001b[39m\u001b[38;5;124m\"\u001b[39m,\u001b[38;5;124m\"\u001b[39m\u001b[38;5;124mInstalls\u001b[39m\u001b[38;5;124m\"\u001b[39m,\u001b[38;5;124m\"\u001b[39m\u001b[38;5;124mPrice\u001b[39m\u001b[38;5;124m\"\u001b[39m,\u001b[38;5;124m\"\u001b[39m\u001b[38;5;124mSize\u001b[39m\u001b[38;5;124m\"\u001b[39m]\n\u001b[0;32m      5\u001b[0m \u001b[38;5;28;01mfor\u001b[39;00m i \u001b[38;5;129;01min\u001b[39;00m col:\n\u001b[1;32m----> 6\u001b[0m     q1 \u001b[38;5;241m=\u001b[39m \u001b[43mnp\u001b[49m\u001b[38;5;241m.\u001b[39mpercentile(df[i],\u001b[38;5;241m25\u001b[39m)\n\u001b[0;32m      7\u001b[0m     q3 \u001b[38;5;241m=\u001b[39m np\u001b[38;5;241m.\u001b[39mpercentile(df[i],\u001b[38;5;241m75\u001b[39m)\n\u001b[0;32m      8\u001b[0m     iqr \u001b[38;5;241m=\u001b[39m q3\u001b[38;5;241m-\u001b[39mq1\n",
            "\u001b[1;31mNameError\u001b[0m: name 'np' is not defined"
          ]
        }
      ],
      "source": [
        "# treat outliers\n",
        "\n",
        "# treat outliers\n",
        "col = [\"Reviews\",\"Installs\",\"Price\",\"Size\"]\n",
        "for i in col:\n",
        "    q1 = np.percentile(df[i],25)\n",
        "    q3 = np.percentile(df[i],75)\n",
        "    iqr = q3-q1\n",
        "    upper_limit = q3 + 1.5*iqr\n",
        "    lower_limit = q1 - 1.5*iqrsns\n",
        "    \n",
        "    df[i]=df[i].apply(lambda x: upper_limit if x> upper_limit else x)\n",
        "    df[i]=df[i].apply(lambda x: lower_limit if x< lower_limit else x)"
      ]
    },
    {
      "cell_type": "code",
      "execution_count": null,
      "id": "5ebc3dac-335d-4adf-9ca7-199b9564045e",
      "metadata": {
        "id": "5ebc3dac-335d-4adf-9ca7-199b9564045e"
      },
      "outputs": [],
      "source": []
    },
    {
      "cell_type": "code",
      "execution_count": null,
      "id": "255e325e-5102-4b43-af9d-8d4756ed6b0a",
      "metadata": {
        "id": "255e325e-5102-4b43-af9d-8d4756ed6b0a"
      },
      "outputs": [],
      "source": []
    },
    {
      "cell_type": "code",
      "execution_count": null,
      "id": "b1ed1368-5638-497c-857a-97bf15fec402",
      "metadata": {
        "id": "b1ed1368-5638-497c-857a-97bf15fec402"
      },
      "outputs": [],
      "source": []
    },
    {
      "cell_type": "code",
      "execution_count": null,
      "id": "73b124d7-125c-434d-a149-f24c493eb037",
      "metadata": {
        "id": "73b124d7-125c-434d-a149-f24c493eb037"
      },
      "outputs": [],
      "source": []
    },
    {
      "cell_type": "code",
      "execution_count": null,
      "id": "91e28a3f-2d87-46b3-8eb6-297d87c5aaed",
      "metadata": {
        "id": "91e28a3f-2d87-46b3-8eb6-297d87c5aaed"
      },
      "outputs": [],
      "source": []
    },
    {
      "cell_type": "code",
      "execution_count": null,
      "id": "cce35bef-0ad5-4e23-ae90-df5e08d604bd",
      "metadata": {
        "id": "cce35bef-0ad5-4e23-ae90-df5e08d604bd"
      },
      "outputs": [],
      "source": []
    },
    {
      "cell_type": "code",
      "execution_count": null,
      "id": "c18c8248-3ecf-4ddc-a648-5db0430921c3",
      "metadata": {
        "id": "c18c8248-3ecf-4ddc-a648-5db0430921c3"
      },
      "outputs": [],
      "source": []
    },
    {
      "cell_type": "code",
      "execution_count": null,
      "id": "6ce0064b-0473-4f57-bf4b-eca77ec8b3ca",
      "metadata": {
        "id": "6ce0064b-0473-4f57-bf4b-eca77ec8b3ca"
      },
      "outputs": [],
      "source": []
    },
    {
      "cell_type": "code",
      "execution_count": null,
      "id": "d89dfa52-2de5-4e10-9067-95c2c993488d",
      "metadata": {
        "id": "d89dfa52-2de5-4e10-9067-95c2c993488d"
      },
      "outputs": [],
      "source": []
    },
    {
      "cell_type": "code",
      "execution_count": null,
      "id": "f35bda81-6afe-4e4c-9d4e-850cfadb2300",
      "metadata": {
        "id": "f35bda81-6afe-4e4c-9d4e-850cfadb2300"
      },
      "outputs": [],
      "source": []
    },
    {
      "cell_type": "code",
      "execution_count": null,
      "id": "4652432f-090e-4eb8-896c-08e49840d41e",
      "metadata": {
        "id": "4652432f-090e-4eb8-896c-08e49840d41e"
      },
      "outputs": [],
      "source": []
    },
    {
      "cell_type": "code",
      "execution_count": null,
      "id": "fec5d50f-0bee-43fe-9565-9f3c5f43c1c0",
      "metadata": {
        "id": "fec5d50f-0bee-43fe-9565-9f3c5f43c1c0"
      },
      "outputs": [],
      "source": []
    },
    {
      "cell_type": "code",
      "execution_count": null,
      "id": "80b84f00-1c4a-4f1a-879c-297f55c6eeeb",
      "metadata": {
        "id": "80b84f00-1c4a-4f1a-879c-297f55c6eeeb"
      },
      "outputs": [],
      "source": []
    },
    {
      "cell_type": "code",
      "execution_count": null,
      "id": "a62b8c11-7686-499a-bbd3-8174dcbff09d",
      "metadata": {
        "id": "a62b8c11-7686-499a-bbd3-8174dcbff09d"
      },
      "outputs": [],
      "source": []
    },
    {
      "cell_type": "code",
      "execution_count": null,
      "id": "61f45b37-6d97-4163-858b-de63b5fea1c0",
      "metadata": {
        "id": "61f45b37-6d97-4163-858b-de63b5fea1c0"
      },
      "outputs": [],
      "source": []
    },
    {
      "cell_type": "code",
      "execution_count": null,
      "id": "78c4b484-0714-4902-9b26-ce3b9d26d74d",
      "metadata": {
        "id": "78c4b484-0714-4902-9b26-ce3b9d26d74d"
      },
      "outputs": [],
      "source": []
    },
    {
      "cell_type": "code",
      "execution_count": null,
      "id": "a5a087ca-fdc1-4e47-baad-8caeae977a53",
      "metadata": {
        "id": "a5a087ca-fdc1-4e47-baad-8caeae977a53"
      },
      "outputs": [],
      "source": []
    }
  ],
  "metadata": {
    "kernelspec": {
      "display_name": "Python 3 (ipykernel)",
      "language": "python",
      "name": "python3"
    },
    "language_info": {
      "codemirror_mode": {
        "name": "ipython",
        "version": 3
      },
      "file_extension": ".py",
      "mimetype": "text/x-python",
      "name": "python",
      "nbconvert_exporter": "python",
      "pygments_lexer": "ipython3",
      "version": "3.9.15"
    },
    "colab": {
      "provenance": []
    }
  },
  "nbformat": 4,
  "nbformat_minor": 5
}